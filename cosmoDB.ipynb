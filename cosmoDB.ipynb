{
 "cells": [
  {
   "cell_type": "markdown",
   "metadata": {},
   "source": [
    "# Azure cosmos nosql database"
   ]
  },
  {
   "cell_type": "markdown",
   "metadata": {},
   "source": [
    "### Import Libraries"
   ]
  },
  {
   "cell_type": "code",
   "execution_count": 1,
   "metadata": {},
   "outputs": [],
   "source": [
    "import os\n",
    "import pandas as pd\n",
    "import matplotlib.pyplot as plt\n",
    "import seaborn as sns\n",
    "import math\n",
    "\n",
    "from azure.cosmos import CosmosClient, exceptions, PartitionKey\n",
    "import json\n",
    "import uuid\n",
    "from azure.cosmos.exceptions import CosmosResourceExistsError"
   ]
  },
  {
   "cell_type": "markdown",
   "metadata": {},
   "source": [
    "### Connect to Cosmos DB"
   ]
  },
  {
   "cell_type": "code",
   "execution_count": 2,
   "metadata": {},
   "outputs": [],
   "source": [
    "URL = \"https://aaric1082.documents.azure.com:443/\"\n",
    "KEY = \"\"\n",
    "client = CosmosClient(URL, credential=KEY)"
   ]
  },
  {
   "cell_type": "markdown",
   "metadata": {},
   "source": [
    "### Database creation in Cosmos DB"
   ]
  },
  {
   "cell_type": "markdown",
   "metadata": {},
   "source": [
    "the database already created in Cosmos DB and need not to be run again therefore, they are commented to avoid duplication."
   ]
  },
  {
   "cell_type": "code",
   "execution_count": 3,
   "metadata": {},
   "outputs": [],
   "source": [
    "def create_DB(client, database_name):\n",
    "    ''' Create a database if it doesn't exist \n",
    "\n",
    "    parameters: \n",
    "        client: CosmosClient\n",
    "        database_name: string\n",
    "\n",
    "    returns: \n",
    "        database: Database\n",
    "    '''\n",
    "    try:\n",
    "        database = client.create_database(database_name)\n",
    "        database = client.get_database_client(database_name)\n",
    "        print(\"Created database: {0}\".format(database.id))\n",
    "    except exceptions.CosmosResourceExistsError:\n",
    "        database = client.get_database_client(database_name)\n",
    "        print(\"Database {0} already exists\".format(database.id))\n",
    "    return database"
   ]
  },
  {
   "cell_type": "code",
   "execution_count": 4,
   "metadata": {},
   "outputs": [
    {
     "name": "stdout",
     "output_type": "stream",
     "text": [
      "Database GeoDB already exists\n"
     ]
    }
   ],
   "source": [
    "# Create GeoDB\n",
    "database = create_DB(client, \"GeoDB\")"
   ]
  },
  {
   "cell_type": "code",
   "execution_count": 5,
   "metadata": {},
   "outputs": [],
   "source": [
    "def create_container(database, container_name):\n",
    "    '''\n",
    "    Create a container if it doesn't exist\n",
    "\n",
    "    parameters: \n",
    "        database: Database\n",
    "        container_name: string\n",
    "\n",
    "    returns: \n",
    "        container: Container\n",
    "    '''\n",
    "\n",
    "    try:\n",
    "        container = database.create_container(id=container_name, partition_key=PartitionKey(path='/id', kind='Hash'))\n",
    "        container = database.get_container_client(container_name)\n",
    "        print(\"Created container: {0}\".format(container.id))\n",
    "    except exceptions.CosmosResourceExistsError:\n",
    "        container = database.get_container_client(container_name)\n",
    "        print(\"Container {0} already exists\".format(container.id))\n",
    "    return container"
   ]
  },
  {
   "cell_type": "code",
   "execution_count": 6,
   "metadata": {},
   "outputs": [
    {
     "name": "stdout",
     "output_type": "stream",
     "text": [
      "Container subregions already exists\n"
     ]
    }
   ],
   "source": [
    "# Create subregions\n",
    "container = create_container(database, \"subregions\")"
   ]
  },
  {
   "cell_type": "code",
   "execution_count": 7,
   "metadata": {},
   "outputs": [],
   "source": [
    "def ingest_data(container, path):\n",
    "    '''\n",
    "    Ingest data to Cosmos DB\n",
    "\n",
    "    parameters: \n",
    "        container: Container to insert data\n",
    "        data path: string\n",
    "\n",
    "    returns: \n",
    "        None\n",
    "    '''\n",
    "    with open(path, \"r\") as file:\n",
    "        data = json.load(file)\n",
    "    \n",
    "    for item in data:\n",
    "        if \"id\" in item:\n",
    "            item_id = str(item[\"id\"])  # Convert id to string if it's not already\n",
    "        else:\n",
    "            item_id = str(uuid.uuid4())  # Generate a UUID as id if no id field is present\n",
    "        \n",
    "        # Check if item with the same ID already exists\n",
    "        try:\n",
    "            item_to_insert = item.copy()  # Create a copy of the item to avoid modifying the original\n",
    "            item_to_insert[\"id\"] = item_id  # Set the correct ID for the item\n",
    "            container.create_item(body=item_to_insert)\n",
    "        except CosmosResourceExistsError:\n",
    "            print(f\"Item with ID '{item_id}' already exists. Skipping insertion.\")\n",
    "\n",
    "    print(\"Data uploaded successfully to Cosmos DB.\")\n"
   ]
  },
  {
   "cell_type": "code",
   "execution_count": 8,
   "metadata": {},
   "outputs": [],
   "source": [
    "#ingest_data(container, \"Geo_data/subregions.json\")"
   ]
  },
  {
   "cell_type": "code",
   "execution_count": 9,
   "metadata": {},
   "outputs": [
    {
     "name": "stdout",
     "output_type": "stream",
     "text": [
      "Container countries already exists\n"
     ]
    }
   ],
   "source": [
    "container = create_container(database, \"countries\")"
   ]
  },
  {
   "cell_type": "code",
   "execution_count": 10,
   "metadata": {},
   "outputs": [],
   "source": [
    "#ingest_data(container, \"Geo_data/countries.json\")"
   ]
  },
  {
   "cell_type": "code",
   "execution_count": 11,
   "metadata": {},
   "outputs": [
    {
     "name": "stdout",
     "output_type": "stream",
     "text": [
      "Container states already exists\n"
     ]
    }
   ],
   "source": [
    "container = create_container(database, \"states\")"
   ]
  },
  {
   "cell_type": "code",
   "execution_count": 12,
   "metadata": {},
   "outputs": [],
   "source": [
    "#ingest_data(container, \"Geo_data/states.json\")"
   ]
  },
  {
   "cell_type": "code",
   "execution_count": 13,
   "metadata": {},
   "outputs": [
    {
     "name": "stdout",
     "output_type": "stream",
     "text": [
      "Container cities already exists\n"
     ]
    }
   ],
   "source": [
    "container = create_container(database, \"cities\")"
   ]
  },
  {
   "cell_type": "code",
   "execution_count": 14,
   "metadata": {},
   "outputs": [],
   "source": [
    "#ingest_data(container, \"Geo_data/cities.json\")"
   ]
  },
  {
   "cell_type": "markdown",
   "metadata": {},
   "source": [
    "### Querying Cosmos DB"
   ]
  },
  {
   "cell_type": "code",
   "execution_count": 15,
   "metadata": {},
   "outputs": [],
   "source": [
    "# load database and containers\n",
    "\n",
    "database = client.get_database_client(\"GeoDB\")\n",
    "regions = database.get_container_client(\"regions\")\n",
    "subregions = database.get_container_client(\"subregions\")\n",
    "countries = database.get_container_client(\"countries\")\n",
    "states = database.get_container_client(\"states\")\n",
    "cities = database.get_container_client(\"cities\")"
   ]
  },
  {
   "cell_type": "code",
   "execution_count": 16,
   "metadata": {},
   "outputs": [],
   "source": [
    "def get_result(query, container):\n",
    "    '''\n",
    "    get result from the db for the query and store it in a dataframe\n",
    "\n",
    "    parameters: \n",
    "        query: string\n",
    "        container: Container\n",
    "\n",
    "    returns: \n",
    "        df: dataframe\n",
    "    '''\n",
    "    query_results = container.query_items(query=query, enable_cross_partition_query=True) # code to get the result\n",
    "    results_list = list(query_results)\n",
    "    df = pd.DataFrame(results_list)\n",
    "    return df"
   ]
  },
  {
   "cell_type": "markdown",
   "metadata": {},
   "source": [
    "#### Exploring basic query operations available in Cosmos DB"
   ]
  },
  {
   "cell_type": "markdown",
   "metadata": {},
   "source": [
    "***SELECT***\n",
    "\n",
    "List all regions in the database."
   ]
  },
  {
   "cell_type": "code",
   "execution_count": 17,
   "metadata": {},
   "outputs": [
    {
     "data": {
      "text/plain": [
       "<iterator object azure.core.paging.ItemPaged at 0x156477ec0>"
      ]
     },
     "execution_count": 17,
     "metadata": {},
     "output_type": "execute_result"
    }
   ],
   "source": [
    "query = \"select * from region r\"\n",
    "result = regions.query_items(query=query, enable_cross_partition_query=True)\n",
    "result"
   ]
  },
  {
   "cell_type": "markdown",
   "metadata": {},
   "source": [
    "The result is a object of type `CosmosQueryItemsResponse`, to view the result iterate over the result and print the result"
   ]
  },
  {
   "cell_type": "code",
   "execution_count": 18,
   "metadata": {},
   "outputs": [
    {
     "name": "stdout",
     "output_type": "stream",
     "text": [
      "{'id': '1', 'name': 'Africa', 'translations': {'kr': '아프리카', 'pt-BR': 'África', 'pt': 'África', 'nl': 'Afrika', 'hr': 'Afrika', 'fa': 'آفریقا', 'de': 'Afrika', 'es': 'África', 'fr': 'Afrique', 'ja': 'アフリカ', 'it': 'Africa', 'cn': '非洲', 'tr': 'Afrika'}, 'wikiDataId': 'Q15', '_rid': 'Lio3AMYlHRoBAAAAAAAAAA==', '_self': 'dbs/Lio3AA==/colls/Lio3AMYlHRo=/docs/Lio3AMYlHRoBAAAAAAAAAA==/', '_etag': '\"4100f187-0000-0200-0000-66181bc20000\"', '_attachments': 'attachments/', '_ts': 1712856002}\n",
      "{'id': '2', 'name': 'Americas', 'translations': {'kr': '아메리카', 'pt-BR': 'América', 'pt': 'América', 'nl': 'Amerika', 'hr': 'Amerika', 'fa': 'قاره آمریکا', 'de': 'Amerika', 'es': 'América', 'fr': 'Amérique', 'ja': 'アメリカ州', 'it': 'America', 'cn': '美洲', 'tr': 'Amerika'}, 'wikiDataId': 'Q828', '_rid': 'Lio3AMYlHRoCAAAAAAAAAA==', '_self': 'dbs/Lio3AA==/colls/Lio3AMYlHRo=/docs/Lio3AMYlHRoCAAAAAAAAAA==/', '_etag': '\"4100f287-0000-0200-0000-66181bc20000\"', '_attachments': 'attachments/', '_ts': 1712856002}\n",
      "{'id': '3', 'name': 'Asia', 'translations': {'kr': '아시아', 'pt-BR': 'Ásia', 'pt': 'Ásia', 'nl': 'Azië', 'hr': 'Ázsia', 'fa': 'آسیا', 'de': 'Asien', 'es': 'Asia', 'fr': 'Asie', 'ja': 'アジア', 'it': 'Asia', 'cn': '亚洲', 'tr': 'Asya'}, 'wikiDataId': 'Q48', '_rid': 'Lio3AMYlHRoDAAAAAAAAAA==', '_self': 'dbs/Lio3AA==/colls/Lio3AMYlHRo=/docs/Lio3AMYlHRoDAAAAAAAAAA==/', '_etag': '\"4100f387-0000-0200-0000-66181bc20000\"', '_attachments': 'attachments/', '_ts': 1712856002}\n",
      "{'id': '4', 'name': 'Europe', 'translations': {'kr': '유럽', 'pt-BR': 'Europa', 'pt': 'Europa', 'nl': 'Europa', 'hr': 'Európa', 'fa': 'اروپا', 'de': 'Europa', 'es': 'Europa', 'fr': 'Europe', 'ja': 'ヨーロッパ', 'it': 'Europa', 'cn': '欧洲', 'tr': 'Avrupa'}, 'wikiDataId': 'Q46', '_rid': 'Lio3AMYlHRoEAAAAAAAAAA==', '_self': 'dbs/Lio3AA==/colls/Lio3AMYlHRo=/docs/Lio3AMYlHRoEAAAAAAAAAA==/', '_etag': '\"4100f487-0000-0200-0000-66181bc20000\"', '_attachments': 'attachments/', '_ts': 1712856002}\n",
      "{'id': '5', 'name': 'Oceania', 'translations': {'kr': '오세아니아', 'pt-BR': 'Oceania', 'pt': 'Oceania', 'nl': 'Oceanië en Australië', 'hr': 'Óceánia és Ausztrália', 'fa': 'اقیانوسیه', 'de': 'Ozeanien und Australien', 'es': 'Oceanía', 'fr': 'Océanie', 'ja': 'オセアニア', 'it': 'Oceania', 'cn': '大洋洲', 'tr': 'Okyanusya'}, 'wikiDataId': 'Q55643', '_rid': 'Lio3AMYlHRoFAAAAAAAAAA==', '_self': 'dbs/Lio3AA==/colls/Lio3AMYlHRo=/docs/Lio3AMYlHRoFAAAAAAAAAA==/', '_etag': '\"4100f587-0000-0200-0000-66181bc20000\"', '_attachments': 'attachments/', '_ts': 1712856002}\n",
      "{'id': '6', 'name': 'Polar', 'translations': {'kr': '남극', 'pt-BR': 'Antártida', 'pt': 'Antártida', 'nl': 'Antarctica', 'hr': 'Antarktika', 'fa': 'جنوبگان', 'de': 'Antarktika', 'es': 'Antártida', 'fr': 'Antarctique', 'ja': '南極大陸', 'it': 'Antartide', 'cn': '南極洲', 'tr': 'Antarktika'}, 'wikiDataId': 'Q51', '_rid': 'Lio3AMYlHRoGAAAAAAAAAA==', '_self': 'dbs/Lio3AA==/colls/Lio3AMYlHRo=/docs/Lio3AMYlHRoGAAAAAAAAAA==/', '_etag': '\"4100f687-0000-0200-0000-66181bc20000\"', '_attachments': 'attachments/', '_ts': 1712856002}\n"
     ]
    }
   ],
   "source": [
    "for res in result:\n",
    "    print(res)"
   ]
  },
  {
   "cell_type": "markdown",
   "metadata": {},
   "source": [
    "To have a better view of the result, the result is stored in a dataframe"
   ]
  },
  {
   "cell_type": "code",
   "execution_count": 19,
   "metadata": {},
   "outputs": [
    {
     "data": {
      "text/html": [
       "<div>\n",
       "<style scoped>\n",
       "    .dataframe tbody tr th:only-of-type {\n",
       "        vertical-align: middle;\n",
       "    }\n",
       "\n",
       "    .dataframe tbody tr th {\n",
       "        vertical-align: top;\n",
       "    }\n",
       "\n",
       "    .dataframe thead th {\n",
       "        text-align: right;\n",
       "    }\n",
       "</style>\n",
       "<table border=\"1\" class=\"dataframe\">\n",
       "  <thead>\n",
       "    <tr style=\"text-align: right;\">\n",
       "      <th></th>\n",
       "      <th>id</th>\n",
       "      <th>name</th>\n",
       "      <th>translations</th>\n",
       "      <th>wikiDataId</th>\n",
       "      <th>_rid</th>\n",
       "      <th>_self</th>\n",
       "      <th>_etag</th>\n",
       "      <th>_attachments</th>\n",
       "      <th>_ts</th>\n",
       "    </tr>\n",
       "  </thead>\n",
       "  <tbody>\n",
       "    <tr>\n",
       "      <th>0</th>\n",
       "      <td>1</td>\n",
       "      <td>Africa</td>\n",
       "      <td>{'kr': '아프리카', 'pt-BR': 'África', 'pt': 'Áfric...</td>\n",
       "      <td>Q15</td>\n",
       "      <td>Lio3AMYlHRoBAAAAAAAAAA==</td>\n",
       "      <td>dbs/Lio3AA==/colls/Lio3AMYlHRo=/docs/Lio3AMYlH...</td>\n",
       "      <td>\"4100f187-0000-0200-0000-66181bc20000\"</td>\n",
       "      <td>attachments/</td>\n",
       "      <td>1712856002</td>\n",
       "    </tr>\n",
       "    <tr>\n",
       "      <th>1</th>\n",
       "      <td>2</td>\n",
       "      <td>Americas</td>\n",
       "      <td>{'kr': '아메리카', 'pt-BR': 'América', 'pt': 'Amér...</td>\n",
       "      <td>Q828</td>\n",
       "      <td>Lio3AMYlHRoCAAAAAAAAAA==</td>\n",
       "      <td>dbs/Lio3AA==/colls/Lio3AMYlHRo=/docs/Lio3AMYlH...</td>\n",
       "      <td>\"4100f287-0000-0200-0000-66181bc20000\"</td>\n",
       "      <td>attachments/</td>\n",
       "      <td>1712856002</td>\n",
       "    </tr>\n",
       "    <tr>\n",
       "      <th>2</th>\n",
       "      <td>3</td>\n",
       "      <td>Asia</td>\n",
       "      <td>{'kr': '아시아', 'pt-BR': 'Ásia', 'pt': 'Ásia', '...</td>\n",
       "      <td>Q48</td>\n",
       "      <td>Lio3AMYlHRoDAAAAAAAAAA==</td>\n",
       "      <td>dbs/Lio3AA==/colls/Lio3AMYlHRo=/docs/Lio3AMYlH...</td>\n",
       "      <td>\"4100f387-0000-0200-0000-66181bc20000\"</td>\n",
       "      <td>attachments/</td>\n",
       "      <td>1712856002</td>\n",
       "    </tr>\n",
       "    <tr>\n",
       "      <th>3</th>\n",
       "      <td>4</td>\n",
       "      <td>Europe</td>\n",
       "      <td>{'kr': '유럽', 'pt-BR': 'Europa', 'pt': 'Europa'...</td>\n",
       "      <td>Q46</td>\n",
       "      <td>Lio3AMYlHRoEAAAAAAAAAA==</td>\n",
       "      <td>dbs/Lio3AA==/colls/Lio3AMYlHRo=/docs/Lio3AMYlH...</td>\n",
       "      <td>\"4100f487-0000-0200-0000-66181bc20000\"</td>\n",
       "      <td>attachments/</td>\n",
       "      <td>1712856002</td>\n",
       "    </tr>\n",
       "    <tr>\n",
       "      <th>4</th>\n",
       "      <td>5</td>\n",
       "      <td>Oceania</td>\n",
       "      <td>{'kr': '오세아니아', 'pt-BR': 'Oceania', 'pt': 'Oce...</td>\n",
       "      <td>Q55643</td>\n",
       "      <td>Lio3AMYlHRoFAAAAAAAAAA==</td>\n",
       "      <td>dbs/Lio3AA==/colls/Lio3AMYlHRo=/docs/Lio3AMYlH...</td>\n",
       "      <td>\"4100f587-0000-0200-0000-66181bc20000\"</td>\n",
       "      <td>attachments/</td>\n",
       "      <td>1712856002</td>\n",
       "    </tr>\n",
       "    <tr>\n",
       "      <th>5</th>\n",
       "      <td>6</td>\n",
       "      <td>Polar</td>\n",
       "      <td>{'kr': '남극', 'pt-BR': 'Antártida', 'pt': 'Antá...</td>\n",
       "      <td>Q51</td>\n",
       "      <td>Lio3AMYlHRoGAAAAAAAAAA==</td>\n",
       "      <td>dbs/Lio3AA==/colls/Lio3AMYlHRo=/docs/Lio3AMYlH...</td>\n",
       "      <td>\"4100f687-0000-0200-0000-66181bc20000\"</td>\n",
       "      <td>attachments/</td>\n",
       "      <td>1712856002</td>\n",
       "    </tr>\n",
       "  </tbody>\n",
       "</table>\n",
       "</div>"
      ],
      "text/plain": [
       "  id      name                                       translations wikiDataId  \\\n",
       "0  1    Africa  {'kr': '아프리카', 'pt-BR': 'África', 'pt': 'Áfric...        Q15   \n",
       "1  2  Americas  {'kr': '아메리카', 'pt-BR': 'América', 'pt': 'Amér...       Q828   \n",
       "2  3      Asia  {'kr': '아시아', 'pt-BR': 'Ásia', 'pt': 'Ásia', '...        Q48   \n",
       "3  4    Europe  {'kr': '유럽', 'pt-BR': 'Europa', 'pt': 'Europa'...        Q46   \n",
       "4  5   Oceania  {'kr': '오세아니아', 'pt-BR': 'Oceania', 'pt': 'Oce...     Q55643   \n",
       "5  6     Polar  {'kr': '남극', 'pt-BR': 'Antártida', 'pt': 'Antá...        Q51   \n",
       "\n",
       "                       _rid  \\\n",
       "0  Lio3AMYlHRoBAAAAAAAAAA==   \n",
       "1  Lio3AMYlHRoCAAAAAAAAAA==   \n",
       "2  Lio3AMYlHRoDAAAAAAAAAA==   \n",
       "3  Lio3AMYlHRoEAAAAAAAAAA==   \n",
       "4  Lio3AMYlHRoFAAAAAAAAAA==   \n",
       "5  Lio3AMYlHRoGAAAAAAAAAA==   \n",
       "\n",
       "                                               _self  \\\n",
       "0  dbs/Lio3AA==/colls/Lio3AMYlHRo=/docs/Lio3AMYlH...   \n",
       "1  dbs/Lio3AA==/colls/Lio3AMYlHRo=/docs/Lio3AMYlH...   \n",
       "2  dbs/Lio3AA==/colls/Lio3AMYlHRo=/docs/Lio3AMYlH...   \n",
       "3  dbs/Lio3AA==/colls/Lio3AMYlHRo=/docs/Lio3AMYlH...   \n",
       "4  dbs/Lio3AA==/colls/Lio3AMYlHRo=/docs/Lio3AMYlH...   \n",
       "5  dbs/Lio3AA==/colls/Lio3AMYlHRo=/docs/Lio3AMYlH...   \n",
       "\n",
       "                                    _etag  _attachments         _ts  \n",
       "0  \"4100f187-0000-0200-0000-66181bc20000\"  attachments/  1712856002  \n",
       "1  \"4100f287-0000-0200-0000-66181bc20000\"  attachments/  1712856002  \n",
       "2  \"4100f387-0000-0200-0000-66181bc20000\"  attachments/  1712856002  \n",
       "3  \"4100f487-0000-0200-0000-66181bc20000\"  attachments/  1712856002  \n",
       "4  \"4100f587-0000-0200-0000-66181bc20000\"  attachments/  1712856002  \n",
       "5  \"4100f687-0000-0200-0000-66181bc20000\"  attachments/  1712856002  "
      ]
     },
     "execution_count": 19,
     "metadata": {},
     "output_type": "execute_result"
    }
   ],
   "source": [
    "regions_df = get_result(query, regions)\n",
    "regions_df"
   ]
  },
  {
   "cell_type": "markdown",
   "metadata": {},
   "source": [
    "***Filter***\n",
    "\n",
    "Find all the states in united states."
   ]
  },
  {
   "cell_type": "code",
   "execution_count": 20,
   "metadata": {},
   "outputs": [
    {
     "data": {
      "text/html": [
       "<div>\n",
       "<style scoped>\n",
       "    .dataframe tbody tr th:only-of-type {\n",
       "        vertical-align: middle;\n",
       "    }\n",
       "\n",
       "    .dataframe tbody tr th {\n",
       "        vertical-align: top;\n",
       "    }\n",
       "\n",
       "    .dataframe thead th {\n",
       "        text-align: right;\n",
       "    }\n",
       "</style>\n",
       "<table border=\"1\" class=\"dataframe\">\n",
       "  <thead>\n",
       "    <tr style=\"text-align: right;\">\n",
       "      <th></th>\n",
       "      <th>id</th>\n",
       "      <th>name</th>\n",
       "      <th>country_id</th>\n",
       "      <th>country_code</th>\n",
       "      <th>country_name</th>\n",
       "      <th>state_code</th>\n",
       "      <th>type</th>\n",
       "      <th>latitude</th>\n",
       "      <th>longitude</th>\n",
       "      <th>_rid</th>\n",
       "      <th>_self</th>\n",
       "      <th>_etag</th>\n",
       "      <th>_attachments</th>\n",
       "      <th>_ts</th>\n",
       "    </tr>\n",
       "  </thead>\n",
       "  <tbody>\n",
       "    <tr>\n",
       "      <th>0</th>\n",
       "      <td>1456</td>\n",
       "      <td>Alabama</td>\n",
       "      <td>233</td>\n",
       "      <td>US</td>\n",
       "      <td>United States</td>\n",
       "      <td>AL</td>\n",
       "      <td>state</td>\n",
       "      <td>32.31823140</td>\n",
       "      <td>-86.90229800</td>\n",
       "      <td>Lio3AJaAqi-nEgAAAAAAAA==</td>\n",
       "      <td>dbs/Lio3AA==/colls/Lio3AJaAqi8=/docs/Lio3AJaAq...</td>\n",
       "      <td>\"0b001d46-0000-0200-0000-661d67e30000\"</td>\n",
       "      <td>attachments/</td>\n",
       "      <td>1713203171</td>\n",
       "    </tr>\n",
       "    <tr>\n",
       "      <th>1</th>\n",
       "      <td>1400</td>\n",
       "      <td>Alaska</td>\n",
       "      <td>233</td>\n",
       "      <td>US</td>\n",
       "      <td>United States</td>\n",
       "      <td>AK</td>\n",
       "      <td>state</td>\n",
       "      <td>64.20084130</td>\n",
       "      <td>-149.49367330</td>\n",
       "      <td>Lio3AJaAqi-oEgAAAAAAAA==</td>\n",
       "      <td>dbs/Lio3AA==/colls/Lio3AJaAqi8=/docs/Lio3AJaAq...</td>\n",
       "      <td>\"0b001e46-0000-0200-0000-661d67e30000\"</td>\n",
       "      <td>attachments/</td>\n",
       "      <td>1713203171</td>\n",
       "    </tr>\n",
       "    <tr>\n",
       "      <th>2</th>\n",
       "      <td>1424</td>\n",
       "      <td>American Samoa</td>\n",
       "      <td>233</td>\n",
       "      <td>US</td>\n",
       "      <td>United States</td>\n",
       "      <td>AS</td>\n",
       "      <td>outlying area</td>\n",
       "      <td>-14.27097200</td>\n",
       "      <td>-170.13221700</td>\n",
       "      <td>Lio3AJaAqi-pEgAAAAAAAA==</td>\n",
       "      <td>dbs/Lio3AA==/colls/Lio3AJaAqi8=/docs/Lio3AJaAq...</td>\n",
       "      <td>\"0b001f46-0000-0200-0000-661d67e30000\"</td>\n",
       "      <td>attachments/</td>\n",
       "      <td>1713203171</td>\n",
       "    </tr>\n",
       "    <tr>\n",
       "      <th>3</th>\n",
       "      <td>1434</td>\n",
       "      <td>Arizona</td>\n",
       "      <td>233</td>\n",
       "      <td>US</td>\n",
       "      <td>United States</td>\n",
       "      <td>AZ</td>\n",
       "      <td>state</td>\n",
       "      <td>34.04892810</td>\n",
       "      <td>-111.09373110</td>\n",
       "      <td>Lio3AJaAqi-qEgAAAAAAAA==</td>\n",
       "      <td>dbs/Lio3AA==/colls/Lio3AJaAqi8=/docs/Lio3AJaAq...</td>\n",
       "      <td>\"0b002046-0000-0200-0000-661d67e30000\"</td>\n",
       "      <td>attachments/</td>\n",
       "      <td>1713203171</td>\n",
       "    </tr>\n",
       "    <tr>\n",
       "      <th>4</th>\n",
       "      <td>1444</td>\n",
       "      <td>Arkansas</td>\n",
       "      <td>233</td>\n",
       "      <td>US</td>\n",
       "      <td>United States</td>\n",
       "      <td>AR</td>\n",
       "      <td>state</td>\n",
       "      <td>35.20105000</td>\n",
       "      <td>-91.83183340</td>\n",
       "      <td>Lio3AJaAqi-rEgAAAAAAAA==</td>\n",
       "      <td>dbs/Lio3AA==/colls/Lio3AJaAqi8=/docs/Lio3AJaAq...</td>\n",
       "      <td>\"0b002146-0000-0200-0000-661d67e30000\"</td>\n",
       "      <td>attachments/</td>\n",
       "      <td>1713203172</td>\n",
       "    </tr>\n",
       "  </tbody>\n",
       "</table>\n",
       "</div>"
      ],
      "text/plain": [
       "     id            name  country_id country_code   country_name state_code  \\\n",
       "0  1456         Alabama         233           US  United States         AL   \n",
       "1  1400          Alaska         233           US  United States         AK   \n",
       "2  1424  American Samoa         233           US  United States         AS   \n",
       "3  1434         Arizona         233           US  United States         AZ   \n",
       "4  1444        Arkansas         233           US  United States         AR   \n",
       "\n",
       "            type      latitude      longitude                      _rid  \\\n",
       "0          state   32.31823140   -86.90229800  Lio3AJaAqi-nEgAAAAAAAA==   \n",
       "1          state   64.20084130  -149.49367330  Lio3AJaAqi-oEgAAAAAAAA==   \n",
       "2  outlying area  -14.27097200  -170.13221700  Lio3AJaAqi-pEgAAAAAAAA==   \n",
       "3          state   34.04892810  -111.09373110  Lio3AJaAqi-qEgAAAAAAAA==   \n",
       "4          state   35.20105000   -91.83183340  Lio3AJaAqi-rEgAAAAAAAA==   \n",
       "\n",
       "                                               _self  \\\n",
       "0  dbs/Lio3AA==/colls/Lio3AJaAqi8=/docs/Lio3AJaAq...   \n",
       "1  dbs/Lio3AA==/colls/Lio3AJaAqi8=/docs/Lio3AJaAq...   \n",
       "2  dbs/Lio3AA==/colls/Lio3AJaAqi8=/docs/Lio3AJaAq...   \n",
       "3  dbs/Lio3AA==/colls/Lio3AJaAqi8=/docs/Lio3AJaAq...   \n",
       "4  dbs/Lio3AA==/colls/Lio3AJaAqi8=/docs/Lio3AJaAq...   \n",
       "\n",
       "                                    _etag  _attachments         _ts  \n",
       "0  \"0b001d46-0000-0200-0000-661d67e30000\"  attachments/  1713203171  \n",
       "1  \"0b001e46-0000-0200-0000-661d67e30000\"  attachments/  1713203171  \n",
       "2  \"0b001f46-0000-0200-0000-661d67e30000\"  attachments/  1713203171  \n",
       "3  \"0b002046-0000-0200-0000-661d67e30000\"  attachments/  1713203171  \n",
       "4  \"0b002146-0000-0200-0000-661d67e30000\"  attachments/  1713203172  "
      ]
     },
     "execution_count": 20,
     "metadata": {},
     "output_type": "execute_result"
    }
   ],
   "source": [
    "query = \"select * from states s where s.country_name = 'United States'\"\n",
    "result_df = get_result(query, states)\n",
    "result_df.head() # due to the large amount of data, we only show the first 5 rows for notebook readability"
   ]
  },
  {
   "cell_type": "markdown",
   "metadata": {},
   "source": [
    "***Group by***\n",
    "\n",
    "Find the number of countries in each sub regions in asian region."
   ]
  },
  {
   "cell_type": "code",
   "execution_count": 21,
   "metadata": {},
   "outputs": [
    {
     "data": {
      "text/html": [
       "<div>\n",
       "<style scoped>\n",
       "    .dataframe tbody tr th:only-of-type {\n",
       "        vertical-align: middle;\n",
       "    }\n",
       "\n",
       "    .dataframe tbody tr th {\n",
       "        vertical-align: top;\n",
       "    }\n",
       "\n",
       "    .dataframe thead th {\n",
       "        text-align: right;\n",
       "    }\n",
       "</style>\n",
       "<table border=\"1\" class=\"dataframe\">\n",
       "  <thead>\n",
       "    <tr style=\"text-align: right;\">\n",
       "      <th></th>\n",
       "      <th>id</th>\n",
       "      <th>name</th>\n",
       "      <th>iso3</th>\n",
       "      <th>iso2</th>\n",
       "      <th>numeric_code</th>\n",
       "      <th>phone_code</th>\n",
       "      <th>capital</th>\n",
       "      <th>currency</th>\n",
       "      <th>currency_name</th>\n",
       "      <th>currency_symbol</th>\n",
       "      <th>...</th>\n",
       "      <th>translations</th>\n",
       "      <th>latitude</th>\n",
       "      <th>longitude</th>\n",
       "      <th>emoji</th>\n",
       "      <th>emojiU</th>\n",
       "      <th>_rid</th>\n",
       "      <th>_self</th>\n",
       "      <th>_etag</th>\n",
       "      <th>_attachments</th>\n",
       "      <th>_ts</th>\n",
       "    </tr>\n",
       "  </thead>\n",
       "  <tbody>\n",
       "    <tr>\n",
       "      <th>0</th>\n",
       "      <td>1</td>\n",
       "      <td>Afghanistan</td>\n",
       "      <td>AFG</td>\n",
       "      <td>AF</td>\n",
       "      <td>004</td>\n",
       "      <td>93</td>\n",
       "      <td>Kabul</td>\n",
       "      <td>AFN</td>\n",
       "      <td>Afghan afghani</td>\n",
       "      <td>؋</td>\n",
       "      <td>...</td>\n",
       "      <td>{'kr': '아프가니스탄', 'pt-BR': 'Afeganistão', 'pt':...</td>\n",
       "      <td>33.00000000</td>\n",
       "      <td>65.00000000</td>\n",
       "      <td>🇦🇫</td>\n",
       "      <td>U+1F1E6 U+1F1EB</td>\n",
       "      <td>Lio3AMK5aMcBAAAAAAAAAA==</td>\n",
       "      <td>dbs/Lio3AA==/colls/Lio3AMK5aMc=/docs/Lio3AMK5a...</td>\n",
       "      <td>\"10000523-0000-0200-0000-661d66970000\"</td>\n",
       "      <td>attachments/</td>\n",
       "      <td>1713202839</td>\n",
       "    </tr>\n",
       "    <tr>\n",
       "      <th>1</th>\n",
       "      <td>12</td>\n",
       "      <td>Armenia</td>\n",
       "      <td>ARM</td>\n",
       "      <td>AM</td>\n",
       "      <td>051</td>\n",
       "      <td>374</td>\n",
       "      <td>Yerevan</td>\n",
       "      <td>AMD</td>\n",
       "      <td>Armenian dram</td>\n",
       "      <td>֏</td>\n",
       "      <td>...</td>\n",
       "      <td>{'kr': '아르메니아', 'pt-BR': 'Armênia', 'pt': 'Arm...</td>\n",
       "      <td>40.00000000</td>\n",
       "      <td>45.00000000</td>\n",
       "      <td>🇦🇲</td>\n",
       "      <td>U+1F1E6 U+1F1F2</td>\n",
       "      <td>Lio3AMK5aMcMAAAAAAAAAA==</td>\n",
       "      <td>dbs/Lio3AA==/colls/Lio3AMK5aMc=/docs/Lio3AMK5a...</td>\n",
       "      <td>\"10001023-0000-0200-0000-661d66970000\"</td>\n",
       "      <td>attachments/</td>\n",
       "      <td>1713202839</td>\n",
       "    </tr>\n",
       "    <tr>\n",
       "      <th>2</th>\n",
       "      <td>16</td>\n",
       "      <td>Azerbaijan</td>\n",
       "      <td>AZE</td>\n",
       "      <td>AZ</td>\n",
       "      <td>031</td>\n",
       "      <td>994</td>\n",
       "      <td>Baku</td>\n",
       "      <td>AZN</td>\n",
       "      <td>Azerbaijani manat</td>\n",
       "      <td>m</td>\n",
       "      <td>...</td>\n",
       "      <td>{'kr': '아제르바이잔', 'pt-BR': 'Azerbaijão', 'pt': ...</td>\n",
       "      <td>40.50000000</td>\n",
       "      <td>47.50000000</td>\n",
       "      <td>🇦🇿</td>\n",
       "      <td>U+1F1E6 U+1F1FF</td>\n",
       "      <td>Lio3AMK5aMcQAAAAAAAAAA==</td>\n",
       "      <td>dbs/Lio3AA==/colls/Lio3AMK5aMc=/docs/Lio3AMK5a...</td>\n",
       "      <td>\"10001423-0000-0200-0000-661d66970000\"</td>\n",
       "      <td>attachments/</td>\n",
       "      <td>1713202839</td>\n",
       "    </tr>\n",
       "    <tr>\n",
       "      <th>3</th>\n",
       "      <td>18</td>\n",
       "      <td>Bahrain</td>\n",
       "      <td>BHR</td>\n",
       "      <td>BH</td>\n",
       "      <td>048</td>\n",
       "      <td>973</td>\n",
       "      <td>Manama</td>\n",
       "      <td>BHD</td>\n",
       "      <td>Bahraini dinar</td>\n",
       "      <td>.د.ب</td>\n",
       "      <td>...</td>\n",
       "      <td>{'kr': '바레인', 'pt-BR': 'Bahrein', 'pt': 'Barém...</td>\n",
       "      <td>26.00000000</td>\n",
       "      <td>50.55000000</td>\n",
       "      <td>🇧🇭</td>\n",
       "      <td>U+1F1E7 U+1F1ED</td>\n",
       "      <td>Lio3AMK5aMcRAAAAAAAAAA==</td>\n",
       "      <td>dbs/Lio3AA==/colls/Lio3AMK5aMc=/docs/Lio3AMK5a...</td>\n",
       "      <td>\"10001523-0000-0200-0000-661d66970000\"</td>\n",
       "      <td>attachments/</td>\n",
       "      <td>1713202839</td>\n",
       "    </tr>\n",
       "    <tr>\n",
       "      <th>4</th>\n",
       "      <td>19</td>\n",
       "      <td>Bangladesh</td>\n",
       "      <td>BGD</td>\n",
       "      <td>BD</td>\n",
       "      <td>050</td>\n",
       "      <td>880</td>\n",
       "      <td>Dhaka</td>\n",
       "      <td>BDT</td>\n",
       "      <td>Bangladeshi taka</td>\n",
       "      <td>৳</td>\n",
       "      <td>...</td>\n",
       "      <td>{'kr': '방글라데시', 'pt-BR': 'Bangladesh', 'pt': '...</td>\n",
       "      <td>24.00000000</td>\n",
       "      <td>90.00000000</td>\n",
       "      <td>🇧🇩</td>\n",
       "      <td>U+1F1E7 U+1F1E9</td>\n",
       "      <td>Lio3AMK5aMcSAAAAAAAAAA==</td>\n",
       "      <td>dbs/Lio3AA==/colls/Lio3AMK5aMc=/docs/Lio3AMK5a...</td>\n",
       "      <td>\"10001623-0000-0200-0000-661d66970000\"</td>\n",
       "      <td>attachments/</td>\n",
       "      <td>1713202839</td>\n",
       "    </tr>\n",
       "  </tbody>\n",
       "</table>\n",
       "<p>5 rows × 28 columns</p>\n",
       "</div>"
      ],
      "text/plain": [
       "   id         name iso3 iso2 numeric_code phone_code  capital currency  \\\n",
       "0   1  Afghanistan  AFG   AF          004         93    Kabul      AFN   \n",
       "1  12      Armenia  ARM   AM          051        374  Yerevan      AMD   \n",
       "2  16   Azerbaijan  AZE   AZ          031        994     Baku      AZN   \n",
       "3  18      Bahrain  BHR   BH          048        973   Manama      BHD   \n",
       "4  19   Bangladesh  BGD   BD          050        880    Dhaka      BDT   \n",
       "\n",
       "       currency_name currency_symbol  ...  \\\n",
       "0     Afghan afghani               ؋  ...   \n",
       "1      Armenian dram               ֏  ...   \n",
       "2  Azerbaijani manat               m  ...   \n",
       "3     Bahraini dinar            .د.ب  ...   \n",
       "4   Bangladeshi taka               ৳  ...   \n",
       "\n",
       "                                        translations     latitude  \\\n",
       "0  {'kr': '아프가니스탄', 'pt-BR': 'Afeganistão', 'pt':...  33.00000000   \n",
       "1  {'kr': '아르메니아', 'pt-BR': 'Armênia', 'pt': 'Arm...  40.00000000   \n",
       "2  {'kr': '아제르바이잔', 'pt-BR': 'Azerbaijão', 'pt': ...  40.50000000   \n",
       "3  {'kr': '바레인', 'pt-BR': 'Bahrein', 'pt': 'Barém...  26.00000000   \n",
       "4  {'kr': '방글라데시', 'pt-BR': 'Bangladesh', 'pt': '...  24.00000000   \n",
       "\n",
       "     longitude emoji           emojiU                      _rid  \\\n",
       "0  65.00000000    🇦🇫  U+1F1E6 U+1F1EB  Lio3AMK5aMcBAAAAAAAAAA==   \n",
       "1  45.00000000    🇦🇲  U+1F1E6 U+1F1F2  Lio3AMK5aMcMAAAAAAAAAA==   \n",
       "2  47.50000000    🇦🇿  U+1F1E6 U+1F1FF  Lio3AMK5aMcQAAAAAAAAAA==   \n",
       "3  50.55000000    🇧🇭  U+1F1E7 U+1F1ED  Lio3AMK5aMcRAAAAAAAAAA==   \n",
       "4  90.00000000    🇧🇩  U+1F1E7 U+1F1E9  Lio3AMK5aMcSAAAAAAAAAA==   \n",
       "\n",
       "                                               _self  \\\n",
       "0  dbs/Lio3AA==/colls/Lio3AMK5aMc=/docs/Lio3AMK5a...   \n",
       "1  dbs/Lio3AA==/colls/Lio3AMK5aMc=/docs/Lio3AMK5a...   \n",
       "2  dbs/Lio3AA==/colls/Lio3AMK5aMc=/docs/Lio3AMK5a...   \n",
       "3  dbs/Lio3AA==/colls/Lio3AMK5aMc=/docs/Lio3AMK5a...   \n",
       "4  dbs/Lio3AA==/colls/Lio3AMK5aMc=/docs/Lio3AMK5a...   \n",
       "\n",
       "                                    _etag  _attachments         _ts  \n",
       "0  \"10000523-0000-0200-0000-661d66970000\"  attachments/  1713202839  \n",
       "1  \"10001023-0000-0200-0000-661d66970000\"  attachments/  1713202839  \n",
       "2  \"10001423-0000-0200-0000-661d66970000\"  attachments/  1713202839  \n",
       "3  \"10001523-0000-0200-0000-661d66970000\"  attachments/  1713202839  \n",
       "4  \"10001623-0000-0200-0000-661d66970000\"  attachments/  1713202839  \n",
       "\n",
       "[5 rows x 28 columns]"
      ]
     },
     "execution_count": 21,
     "metadata": {},
     "output_type": "execute_result"
    }
   ],
   "source": [
    "query = '''Select * from countries c where c.region = 'Asia' '''\n",
    "result_df = get_result(query, countries)\n",
    "result_df.head()"
   ]
  },
  {
   "cell_type": "markdown",
   "metadata": {},
   "source": [
    "Cosmos DB not support group by query. For grouping we will use pandas"
   ]
  },
  {
   "cell_type": "code",
   "execution_count": 22,
   "metadata": {},
   "outputs": [
    {
     "data": {
      "image/png": "[encoded data removed]",
      "text/plain": [
       "<Figure size 700x500 with 1 Axes>"
      ]
     },
     "metadata": {},
     "output_type": "display_data"
    }
   ],
   "source": [
    "plt.figure(figsize=(7, 5))\n",
    "colors = sns.color_palette('bright')\n",
    "result_df['subregion'].value_counts().plot(kind='bar', color=colors) # counts the number of countries in each subregion from the dataframe and plots them\n",
    "plt.xlabel('Subregions')\n",
    "plt.ylabel('Countries')\n",
    "plt.title('Number of Countries per subregion')\n",
    "plt.show()"
   ]
  },
  {
   "cell_type": "markdown",
   "metadata": {},
   "source": [
    "***Count***\n",
    "\n",
    "Count the number of islands associated with United States"
   ]
  },
  {
   "cell_type": "code",
   "execution_count": 23,
   "metadata": {},
   "outputs": [
    {
     "name": "stdout",
     "output_type": "stream",
     "text": [
      "There are  9  islands in United States\n"
     ]
    }
   ],
   "source": [
    "query = \"SELECT VALUE COUNT(1) FROM states s WHERE s.country_name = 'United States' AND s.type = 'islands / groups of islands'\"\n",
    "query_results = states.query_items(query=query, enable_cross_partition_query=True)\n",
    "count = list(query_results)\n",
    "print(\"There are \", count[0], \" islands in United States\")\n"
   ]
  },
  {
   "cell_type": "markdown",
   "metadata": {},
   "source": [
    "***Order by***\n",
    "\n",
    "List all states in India in alphabetical order"
   ]
  },
  {
   "cell_type": "code",
   "execution_count": 24,
   "metadata": {},
   "outputs": [
    {
     "data": {
      "text/html": [
       "<div>\n",
       "<style scoped>\n",
       "    .dataframe tbody tr th:only-of-type {\n",
       "        vertical-align: middle;\n",
       "    }\n",
       "\n",
       "    .dataframe tbody tr th {\n",
       "        vertical-align: top;\n",
       "    }\n",
       "\n",
       "    .dataframe thead th {\n",
       "        text-align: right;\n",
       "    }\n",
       "</style>\n",
       "<table border=\"1\" class=\"dataframe\">\n",
       "  <thead>\n",
       "    <tr style=\"text-align: right;\">\n",
       "      <th></th>\n",
       "      <th>id</th>\n",
       "      <th>name</th>\n",
       "      <th>country_id</th>\n",
       "      <th>country_code</th>\n",
       "      <th>country_name</th>\n",
       "      <th>state_code</th>\n",
       "      <th>type</th>\n",
       "      <th>latitude</th>\n",
       "      <th>longitude</th>\n",
       "      <th>_rid</th>\n",
       "      <th>_self</th>\n",
       "      <th>_etag</th>\n",
       "      <th>_attachments</th>\n",
       "      <th>_ts</th>\n",
       "    </tr>\n",
       "  </thead>\n",
       "  <tbody>\n",
       "    <tr>\n",
       "      <th>0</th>\n",
       "      <td>4023</td>\n",
       "      <td>Andaman and Nicobar Islands</td>\n",
       "      <td>101</td>\n",
       "      <td>IN</td>\n",
       "      <td>India</td>\n",
       "      <td>AN</td>\n",
       "      <td>Union territory</td>\n",
       "      <td>11.74008670</td>\n",
       "      <td>92.65864010</td>\n",
       "      <td>Lio3AJaAqi9gBgAAAAAAAA==</td>\n",
       "      <td>dbs/Lio3AA==/colls/Lio3AJaAqi8=/docs/Lio3AJaAq...</td>\n",
       "      <td>\"0b007f39-0000-0200-0000-661d67a70000\"</td>\n",
       "      <td>attachments/</td>\n",
       "      <td>1713203111</td>\n",
       "    </tr>\n",
       "    <tr>\n",
       "      <th>1</th>\n",
       "      <td>4017</td>\n",
       "      <td>Andhra Pradesh</td>\n",
       "      <td>101</td>\n",
       "      <td>IN</td>\n",
       "      <td>India</td>\n",
       "      <td>AP</td>\n",
       "      <td>state</td>\n",
       "      <td>15.91289980</td>\n",
       "      <td>79.73998750</td>\n",
       "      <td>Lio3AJaAqi9hBgAAAAAAAA==</td>\n",
       "      <td>dbs/Lio3AA==/colls/Lio3AJaAqi8=/docs/Lio3AJaAq...</td>\n",
       "      <td>\"0b008039-0000-0200-0000-661d67a70000\"</td>\n",
       "      <td>attachments/</td>\n",
       "      <td>1713203111</td>\n",
       "    </tr>\n",
       "    <tr>\n",
       "      <th>2</th>\n",
       "      <td>4024</td>\n",
       "      <td>Arunachal Pradesh</td>\n",
       "      <td>101</td>\n",
       "      <td>IN</td>\n",
       "      <td>India</td>\n",
       "      <td>AR</td>\n",
       "      <td>state</td>\n",
       "      <td>28.21799940</td>\n",
       "      <td>94.72775280</td>\n",
       "      <td>Lio3AJaAqi9iBgAAAAAAAA==</td>\n",
       "      <td>dbs/Lio3AA==/colls/Lio3AJaAqi8=/docs/Lio3AJaAq...</td>\n",
       "      <td>\"0b008139-0000-0200-0000-661d67a70000\"</td>\n",
       "      <td>attachments/</td>\n",
       "      <td>1713203111</td>\n",
       "    </tr>\n",
       "    <tr>\n",
       "      <th>3</th>\n",
       "      <td>4027</td>\n",
       "      <td>Assam</td>\n",
       "      <td>101</td>\n",
       "      <td>IN</td>\n",
       "      <td>India</td>\n",
       "      <td>AS</td>\n",
       "      <td>state</td>\n",
       "      <td>26.20060430</td>\n",
       "      <td>92.93757390</td>\n",
       "      <td>Lio3AJaAqi9jBgAAAAAAAA==</td>\n",
       "      <td>dbs/Lio3AA==/colls/Lio3AJaAqi8=/docs/Lio3AJaAq...</td>\n",
       "      <td>\"0b008239-0000-0200-0000-661d67a70000\"</td>\n",
       "      <td>attachments/</td>\n",
       "      <td>1713203111</td>\n",
       "    </tr>\n",
       "    <tr>\n",
       "      <th>4</th>\n",
       "      <td>4037</td>\n",
       "      <td>Bihar</td>\n",
       "      <td>101</td>\n",
       "      <td>IN</td>\n",
       "      <td>India</td>\n",
       "      <td>BR</td>\n",
       "      <td>state</td>\n",
       "      <td>25.09607420</td>\n",
       "      <td>85.31311940</td>\n",
       "      <td>Lio3AJaAqi9kBgAAAAAAAA==</td>\n",
       "      <td>dbs/Lio3AA==/colls/Lio3AJaAqi8=/docs/Lio3AJaAq...</td>\n",
       "      <td>\"0b008339-0000-0200-0000-661d67a70000\"</td>\n",
       "      <td>attachments/</td>\n",
       "      <td>1713203111</td>\n",
       "    </tr>\n",
       "  </tbody>\n",
       "</table>\n",
       "</div>"
      ],
      "text/plain": [
       "     id                         name  country_id country_code country_name  \\\n",
       "0  4023  Andaman and Nicobar Islands         101           IN        India   \n",
       "1  4017               Andhra Pradesh         101           IN        India   \n",
       "2  4024            Arunachal Pradesh         101           IN        India   \n",
       "3  4027                        Assam         101           IN        India   \n",
       "4  4037                        Bihar         101           IN        India   \n",
       "\n",
       "  state_code             type     latitude    longitude  \\\n",
       "0         AN  Union territory  11.74008670  92.65864010   \n",
       "1         AP            state  15.91289980  79.73998750   \n",
       "2         AR            state  28.21799940  94.72775280   \n",
       "3         AS            state  26.20060430  92.93757390   \n",
       "4         BR            state  25.09607420  85.31311940   \n",
       "\n",
       "                       _rid  \\\n",
       "0  Lio3AJaAqi9gBgAAAAAAAA==   \n",
       "1  Lio3AJaAqi9hBgAAAAAAAA==   \n",
       "2  Lio3AJaAqi9iBgAAAAAAAA==   \n",
       "3  Lio3AJaAqi9jBgAAAAAAAA==   \n",
       "4  Lio3AJaAqi9kBgAAAAAAAA==   \n",
       "\n",
       "                                               _self  \\\n",
       "0  dbs/Lio3AA==/colls/Lio3AJaAqi8=/docs/Lio3AJaAq...   \n",
       "1  dbs/Lio3AA==/colls/Lio3AJaAqi8=/docs/Lio3AJaAq...   \n",
       "2  dbs/Lio3AA==/colls/Lio3AJaAqi8=/docs/Lio3AJaAq...   \n",
       "3  dbs/Lio3AA==/colls/Lio3AJaAqi8=/docs/Lio3AJaAq...   \n",
       "4  dbs/Lio3AA==/colls/Lio3AJaAqi8=/docs/Lio3AJaAq...   \n",
       "\n",
       "                                    _etag  _attachments         _ts  \n",
       "0  \"0b007f39-0000-0200-0000-661d67a70000\"  attachments/  1713203111  \n",
       "1  \"0b008039-0000-0200-0000-661d67a70000\"  attachments/  1713203111  \n",
       "2  \"0b008139-0000-0200-0000-661d67a70000\"  attachments/  1713203111  \n",
       "3  \"0b008239-0000-0200-0000-661d67a70000\"  attachments/  1713203111  \n",
       "4  \"0b008339-0000-0200-0000-661d67a70000\"  attachments/  1713203111  "
      ]
     },
     "execution_count": 24,
     "metadata": {},
     "output_type": "execute_result"
    }
   ],
   "source": [
    "query = ''' select * from states s where s.country_name = 'India'  order by s.name '''\n",
    "result_df = get_result(query, states)\n",
    "result_df.head()"
   ]
  },
  {
   "cell_type": "markdown",
   "metadata": {},
   "source": [
    "***Querying sub-elements***\n",
    "\n",
    "Find the Chinese names of countries in Americas region"
   ]
  },
  {
   "cell_type": "code",
   "execution_count": 25,
   "metadata": {},
   "outputs": [
    {
     "data": {
      "text/html": [
       "<div>\n",
       "<style scoped>\n",
       "    .dataframe tbody tr th:only-of-type {\n",
       "        vertical-align: middle;\n",
       "    }\n",
       "\n",
       "    .dataframe tbody tr th {\n",
       "        vertical-align: top;\n",
       "    }\n",
       "\n",
       "    .dataframe thead th {\n",
       "        text-align: right;\n",
       "    }\n",
       "</style>\n",
       "<table border=\"1\" class=\"dataframe\">\n",
       "  <thead>\n",
       "    <tr style=\"text-align: right;\">\n",
       "      <th></th>\n",
       "      <th>Name</th>\n",
       "      <th>Chinese_names</th>\n",
       "    </tr>\n",
       "  </thead>\n",
       "  <tbody>\n",
       "    <tr>\n",
       "      <th>0</th>\n",
       "      <td>Anguilla</td>\n",
       "      <td>安圭拉</td>\n",
       "    </tr>\n",
       "    <tr>\n",
       "      <th>1</th>\n",
       "      <td>Antigua and Barbuda</td>\n",
       "      <td>安提瓜和巴布达</td>\n",
       "    </tr>\n",
       "    <tr>\n",
       "      <th>2</th>\n",
       "      <td>Argentina</td>\n",
       "      <td>阿根廷</td>\n",
       "    </tr>\n",
       "    <tr>\n",
       "      <th>3</th>\n",
       "      <td>Aruba</td>\n",
       "      <td>阿鲁巴</td>\n",
       "    </tr>\n",
       "    <tr>\n",
       "      <th>4</th>\n",
       "      <td>Barbados</td>\n",
       "      <td>巴巴多斯</td>\n",
       "    </tr>\n",
       "  </tbody>\n",
       "</table>\n",
       "</div>"
      ],
      "text/plain": [
       "                  Name Chinese_names\n",
       "0             Anguilla           安圭拉\n",
       "1  Antigua and Barbuda       安提瓜和巴布达\n",
       "2            Argentina           阿根廷\n",
       "3                Aruba           阿鲁巴\n",
       "4             Barbados          巴巴多斯"
      ]
     },
     "execution_count": 25,
     "metadata": {},
     "output_type": "execute_result"
    }
   ],
   "source": [
    "query = ''' select c.name as Name,c.translations.cn as Chinese_names from countries c where c.region = 'Americas' '''\n",
    "result_df = get_result(query, countries)\n",
    "result_df.head()"
   ]
  },
  {
   "cell_type": "markdown",
   "metadata": {},
   "source": [
    "***Join query***"
   ]
  },
  {
   "cell_type": "markdown",
   "metadata": {},
   "source": [
    "In **Azure Cosmos DB**, you cannot directly reference or call an item from one container into another container using a query in the same way you might perform a join operation in a relational database. Cosmos DB does not support cross-container queries or joins natively. Each container in Cosmos DB operates independently, and data from one container cannot be directly accessed or queried from another container using SQL-like queries.\n",
    "\n",
    "However, you can achieve a similar effect by designing your data model to include references or IDs that link items across containers. Then, you can use application logic to fetch related data from different containers based on these references. Here's an example approach:"
   ]
  },
  {
   "cell_type": "markdown",
   "metadata": {},
   "source": [
    "List all states in United Kingdom"
   ]
  },
  {
   "cell_type": "code",
   "execution_count": 26,
   "metadata": {},
   "outputs": [
    {
     "data": {
      "text/html": [
       "<div>\n",
       "<style scoped>\n",
       "    .dataframe tbody tr th:only-of-type {\n",
       "        vertical-align: middle;\n",
       "    }\n",
       "\n",
       "    .dataframe tbody tr th {\n",
       "        vertical-align: top;\n",
       "    }\n",
       "\n",
       "    .dataframe thead th {\n",
       "        text-align: right;\n",
       "    }\n",
       "</style>\n",
       "<table border=\"1\" class=\"dataframe\">\n",
       "  <thead>\n",
       "    <tr style=\"text-align: right;\">\n",
       "      <th></th>\n",
       "      <th>id</th>\n",
       "      <th>name</th>\n",
       "      <th>country_id</th>\n",
       "      <th>country_code</th>\n",
       "      <th>country_name</th>\n",
       "      <th>state_code</th>\n",
       "      <th>type</th>\n",
       "      <th>latitude</th>\n",
       "      <th>longitude</th>\n",
       "      <th>_rid</th>\n",
       "      <th>_self</th>\n",
       "      <th>_etag</th>\n",
       "      <th>_attachments</th>\n",
       "      <th>_ts</th>\n",
       "    </tr>\n",
       "  </thead>\n",
       "  <tbody>\n",
       "    <tr>\n",
       "      <th>0</th>\n",
       "      <td>2463</td>\n",
       "      <td>Aberdeen</td>\n",
       "      <td>232</td>\n",
       "      <td>GB</td>\n",
       "      <td>United Kingdom</td>\n",
       "      <td>ABE</td>\n",
       "      <td>None</td>\n",
       "      <td>57.14971700</td>\n",
       "      <td>-2.09427800</td>\n",
       "      <td>Lio3AJaAqi-wEQAAAAAAAA==</td>\n",
       "      <td>dbs/Lio3AA==/colls/Lio3AJaAqi8=/docs/Lio3AJaAq...</td>\n",
       "      <td>\"0b001845-0000-0200-0000-661d67df0000\"</td>\n",
       "      <td>attachments/</td>\n",
       "      <td>1713203167</td>\n",
       "    </tr>\n",
       "    <tr>\n",
       "      <th>1</th>\n",
       "      <td>2401</td>\n",
       "      <td>Aberdeenshire</td>\n",
       "      <td>232</td>\n",
       "      <td>GB</td>\n",
       "      <td>United Kingdom</td>\n",
       "      <td>ABD</td>\n",
       "      <td>None</td>\n",
       "      <td>57.28687230</td>\n",
       "      <td>-2.38156840</td>\n",
       "      <td>Lio3AJaAqi-xEQAAAAAAAA==</td>\n",
       "      <td>dbs/Lio3AA==/colls/Lio3AJaAqi8=/docs/Lio3AJaAq...</td>\n",
       "      <td>\"0b001945-0000-0200-0000-661d67df0000\"</td>\n",
       "      <td>attachments/</td>\n",
       "      <td>1713203167</td>\n",
       "    </tr>\n",
       "    <tr>\n",
       "      <th>2</th>\n",
       "      <td>2387</td>\n",
       "      <td>Angus</td>\n",
       "      <td>232</td>\n",
       "      <td>GB</td>\n",
       "      <td>United Kingdom</td>\n",
       "      <td>ANS</td>\n",
       "      <td>None</td>\n",
       "      <td>37.27578860</td>\n",
       "      <td>-95.65010330</td>\n",
       "      <td>Lio3AJaAqi-yEQAAAAAAAA==</td>\n",
       "      <td>dbs/Lio3AA==/colls/Lio3AJaAqi8=/docs/Lio3AJaAq...</td>\n",
       "      <td>\"0b001a45-0000-0200-0000-661d67df0000\"</td>\n",
       "      <td>attachments/</td>\n",
       "      <td>1713203167</td>\n",
       "    </tr>\n",
       "    <tr>\n",
       "      <th>3</th>\n",
       "      <td>2533</td>\n",
       "      <td>Antrim</td>\n",
       "      <td>232</td>\n",
       "      <td>GB</td>\n",
       "      <td>United Kingdom</td>\n",
       "      <td>ANT</td>\n",
       "      <td>None</td>\n",
       "      <td>54.71953380</td>\n",
       "      <td>-6.20724980</td>\n",
       "      <td>Lio3AJaAqi-zEQAAAAAAAA==</td>\n",
       "      <td>dbs/Lio3AA==/colls/Lio3AJaAqi8=/docs/Lio3AJaAq...</td>\n",
       "      <td>\"0b001b45-0000-0200-0000-661d67df0000\"</td>\n",
       "      <td>attachments/</td>\n",
       "      <td>1713203167</td>\n",
       "    </tr>\n",
       "    <tr>\n",
       "      <th>4</th>\n",
       "      <td>2412</td>\n",
       "      <td>Antrim and Newtownabbey</td>\n",
       "      <td>232</td>\n",
       "      <td>GB</td>\n",
       "      <td>United Kingdom</td>\n",
       "      <td>ANN</td>\n",
       "      <td>None</td>\n",
       "      <td>54.69568870</td>\n",
       "      <td>-5.94810690</td>\n",
       "      <td>Lio3AJaAqi-0EQAAAAAAAA==</td>\n",
       "      <td>dbs/Lio3AA==/colls/Lio3AJaAqi8=/docs/Lio3AJaAq...</td>\n",
       "      <td>\"0b001c45-0000-0200-0000-661d67df0000\"</td>\n",
       "      <td>attachments/</td>\n",
       "      <td>1713203167</td>\n",
       "    </tr>\n",
       "  </tbody>\n",
       "</table>\n",
       "</div>"
      ],
      "text/plain": [
       "     id                     name  country_id country_code    country_name  \\\n",
       "0  2463                 Aberdeen         232           GB  United Kingdom   \n",
       "1  2401            Aberdeenshire         232           GB  United Kingdom   \n",
       "2  2387                    Angus         232           GB  United Kingdom   \n",
       "3  2533                   Antrim         232           GB  United Kingdom   \n",
       "4  2412  Antrim and Newtownabbey         232           GB  United Kingdom   \n",
       "\n",
       "  state_code  type     latitude     longitude                      _rid  \\\n",
       "0        ABE  None  57.14971700   -2.09427800  Lio3AJaAqi-wEQAAAAAAAA==   \n",
       "1        ABD  None  57.28687230   -2.38156840  Lio3AJaAqi-xEQAAAAAAAA==   \n",
       "2        ANS  None  37.27578860  -95.65010330  Lio3AJaAqi-yEQAAAAAAAA==   \n",
       "3        ANT  None  54.71953380   -6.20724980  Lio3AJaAqi-zEQAAAAAAAA==   \n",
       "4        ANN  None  54.69568870   -5.94810690  Lio3AJaAqi-0EQAAAAAAAA==   \n",
       "\n",
       "                                               _self  \\\n",
       "0  dbs/Lio3AA==/colls/Lio3AJaAqi8=/docs/Lio3AJaAq...   \n",
       "1  dbs/Lio3AA==/colls/Lio3AJaAqi8=/docs/Lio3AJaAq...   \n",
       "2  dbs/Lio3AA==/colls/Lio3AJaAqi8=/docs/Lio3AJaAq...   \n",
       "3  dbs/Lio3AA==/colls/Lio3AJaAqi8=/docs/Lio3AJaAq...   \n",
       "4  dbs/Lio3AA==/colls/Lio3AJaAqi8=/docs/Lio3AJaAq...   \n",
       "\n",
       "                                    _etag  _attachments         _ts  \n",
       "0  \"0b001845-0000-0200-0000-661d67df0000\"  attachments/  1713203167  \n",
       "1  \"0b001945-0000-0200-0000-661d67df0000\"  attachments/  1713203167  \n",
       "2  \"0b001a45-0000-0200-0000-661d67df0000\"  attachments/  1713203167  \n",
       "3  \"0b001b45-0000-0200-0000-661d67df0000\"  attachments/  1713203167  \n",
       "4  \"0b001c45-0000-0200-0000-661d67df0000\"  attachments/  1713203167  "
      ]
     },
     "execution_count": 26,
     "metadata": {},
     "output_type": "execute_result"
    }
   ],
   "source": [
    "# Query Container countries to get item with linked_id\n",
    "query_a = f\"SELECT c.id FROM countries c WHERE c.name = 'United Kingdom'\"\n",
    "result_a = list(countries.query_items(query=query_a, enable_cross_partition_query=True))\n",
    "    \n",
    "# Query Container states using the retrieved item's data\n",
    "if result_a:\n",
    "        linked_item_data = result_a[0]  # Get the first item in the result set\n",
    "        query_b = f\"SELECT * FROM states s WHERE s.country_id = {linked_item_data['id']}\" # linking the foreign key from countries to states\n",
    "        result_b = list(states.query_items(query=query_b, enable_cross_partition_query=True))\n",
    "\n",
    "result = pd.DataFrame(result_b)\n",
    "result.head()"
   ]
  },
  {
   "cell_type": "markdown",
   "metadata": {},
   "source": [
    "Additional queries"
   ]
  },
  {
   "cell_type": "markdown",
   "metadata": {},
   "source": [
    "Find the most commonly used currecy in the world"
   ]
  },
  {
   "cell_type": "code",
   "execution_count": 27,
   "metadata": {},
   "outputs": [
    {
     "data": {
      "text/html": [
       "<div>\n",
       "<style scoped>\n",
       "    .dataframe tbody tr th:only-of-type {\n",
       "        vertical-align: middle;\n",
       "    }\n",
       "\n",
       "    .dataframe tbody tr th {\n",
       "        vertical-align: top;\n",
       "    }\n",
       "\n",
       "    .dataframe thead th {\n",
       "        text-align: right;\n",
       "    }\n",
       "</style>\n",
       "<table border=\"1\" class=\"dataframe\">\n",
       "  <thead>\n",
       "    <tr style=\"text-align: right;\">\n",
       "      <th></th>\n",
       "      <th>name</th>\n",
       "      <th>currency</th>\n",
       "      <th>currency_name</th>\n",
       "      <th>currency_symbol</th>\n",
       "    </tr>\n",
       "  </thead>\n",
       "  <tbody>\n",
       "    <tr>\n",
       "      <th>0</th>\n",
       "      <td>Afghanistan</td>\n",
       "      <td>AFN</td>\n",
       "      <td>Afghan afghani</td>\n",
       "      <td>؋</td>\n",
       "    </tr>\n",
       "    <tr>\n",
       "      <th>1</th>\n",
       "      <td>Aland Islands</td>\n",
       "      <td>EUR</td>\n",
       "      <td>Euro</td>\n",
       "      <td>€</td>\n",
       "    </tr>\n",
       "    <tr>\n",
       "      <th>2</th>\n",
       "      <td>Albania</td>\n",
       "      <td>ALL</td>\n",
       "      <td>Albanian lek</td>\n",
       "      <td>Lek</td>\n",
       "    </tr>\n",
       "    <tr>\n",
       "      <th>3</th>\n",
       "      <td>Algeria</td>\n",
       "      <td>DZD</td>\n",
       "      <td>Algerian dinar</td>\n",
       "      <td>دج</td>\n",
       "    </tr>\n",
       "    <tr>\n",
       "      <th>4</th>\n",
       "      <td>American Samoa</td>\n",
       "      <td>USD</td>\n",
       "      <td>US Dollar</td>\n",
       "      <td>$</td>\n",
       "    </tr>\n",
       "  </tbody>\n",
       "</table>\n",
       "</div>"
      ],
      "text/plain": [
       "             name currency   currency_name currency_symbol\n",
       "0     Afghanistan      AFN  Afghan afghani               ؋\n",
       "1   Aland Islands      EUR            Euro               €\n",
       "2         Albania      ALL    Albanian lek             Lek\n",
       "3         Algeria      DZD  Algerian dinar              دج\n",
       "4  American Samoa      USD       US Dollar               $"
      ]
     },
     "execution_count": 27,
     "metadata": {},
     "output_type": "execute_result"
    }
   ],
   "source": [
    "query = ''' select c.name, c.currency, c.currency_name, c.currency_symbol\n",
    "from countries c'''\n",
    "result_df = get_result(query, countries)\n",
    "result_df.head()"
   ]
  },
  {
   "cell_type": "code",
   "execution_count": 28,
   "metadata": {},
   "outputs": [
    {
     "data": {
      "image/png": "[encoded data removed]",
      "text/plain": [
       "<Figure size 640x480 with 1 Axes>"
      ]
     },
     "metadata": {},
     "output_type": "display_data"
    }
   ],
   "source": [
    "colors = sns.color_palette('dark', 5)\n",
    "result_df['currency'].value_counts().nlargest(5).plot(kind='bar', color=colors) # count the number of countries using each currency from the dataframe and plots them\n",
    "plt.xlabel('Currencies')\n",
    "plt.ylabel('Countries')\n",
    "plt.title('Tope 5 Currencies in the World')\n",
    "plt.show()"
   ]
  },
  {
   "cell_type": "markdown",
   "metadata": {},
   "source": [
    "As we can see, from the plot, Euro is the most commonly used currency in the world following by United States Dollar."
   ]
  },
  {
   "cell_type": "markdown",
   "metadata": {},
   "source": [
    "Find number of cities in each state in India"
   ]
  },
  {
   "cell_type": "code",
   "execution_count": 29,
   "metadata": {},
   "outputs": [
    {
     "data": {
      "text/html": [
       "<div>\n",
       "<style scoped>\n",
       "    .dataframe tbody tr th:only-of-type {\n",
       "        vertical-align: middle;\n",
       "    }\n",
       "\n",
       "    .dataframe tbody tr th {\n",
       "        vertical-align: top;\n",
       "    }\n",
       "\n",
       "    .dataframe thead th {\n",
       "        text-align: right;\n",
       "    }\n",
       "</style>\n",
       "<table border=\"1\" class=\"dataframe\">\n",
       "  <thead>\n",
       "    <tr style=\"text-align: right;\">\n",
       "      <th></th>\n",
       "      <th>count</th>\n",
       "    </tr>\n",
       "    <tr>\n",
       "      <th>state_name</th>\n",
       "      <th></th>\n",
       "    </tr>\n",
       "  </thead>\n",
       "  <tbody>\n",
       "    <tr>\n",
       "      <th>Uttar Pradesh</th>\n",
       "      <td>621</td>\n",
       "    </tr>\n",
       "    <tr>\n",
       "      <th>Maharashtra</th>\n",
       "      <td>560</td>\n",
       "    </tr>\n",
       "    <tr>\n",
       "      <th>Tamil Nadu</th>\n",
       "      <td>350</td>\n",
       "    </tr>\n",
       "    <tr>\n",
       "      <th>Gujarat</th>\n",
       "      <td>308</td>\n",
       "    </tr>\n",
       "    <tr>\n",
       "      <th>Madhya Pradesh</th>\n",
       "      <td>273</td>\n",
       "    </tr>\n",
       "  </tbody>\n",
       "</table>\n",
       "</div>"
      ],
      "text/plain": [
       "                count\n",
       "state_name           \n",
       "Uttar Pradesh     621\n",
       "Maharashtra       560\n",
       "Tamil Nadu        350\n",
       "Gujarat           308\n",
       "Madhya Pradesh    273"
      ]
     },
     "execution_count": 29,
     "metadata": {},
     "output_type": "execute_result"
    }
   ],
   "source": [
    "query = ''' Select * from city c where c.country_name = 'India' '''\n",
    "result_df = get_result(query, cities)\n",
    "In_states = result_df['state_name'].value_counts()\n",
    "In_states = pd.DataFrame(In_states)\n",
    "In_states.head()"
   ]
  },
  {
   "cell_type": "markdown",
   "metadata": {},
   "source": [
    "As we can see, the state with the highest number of cities / towns in India is Uttar Pradesh."
   ]
  },
  {
   "cell_type": "markdown",
   "metadata": {},
   "source": [
    "Find the state with the highest number of cities in United States"
   ]
  },
  {
   "cell_type": "code",
   "execution_count": 30,
   "metadata": {},
   "outputs": [
    {
     "data": {
      "image/png": "[encoded data removed]",
      "text/plain": [
       "<Figure size 800x800 with 1 Axes>"
      ]
     },
     "metadata": {},
     "output_type": "display_data"
    }
   ],
   "source": [
    "query = ''' Select * from city c where c.country_name = 'United States' '''\n",
    "result_df = get_result(query, cities)\n",
    "Us_states = result_df['state_name'].value_counts().nlargest(7)\n",
    "plt.figure(figsize=(8, 8))  # Set the figure size\n",
    "plt.pie(Us_states, labels=Us_states.index, autopct='%1.1f%%', startangle=140) # Plot the pie chart\n",
    "plt.title('Top 7 states with the most cities in the United States')\n",
    "plt.show()\n"
   ]
  },
  {
   "cell_type": "markdown",
   "metadata": {},
   "source": [
    "As we can see, the state with the highest number of cities/towns in United States is Texas."
   ]
  },
  {
   "cell_type": "markdown",
   "metadata": {},
   "source": [
    "Find all countries that follow the GMT time zone"
   ]
  },
  {
   "cell_type": "code",
   "execution_count": 31,
   "metadata": {},
   "outputs": [
    {
     "data": {
      "text/html": [
       "<div>\n",
       "<style scoped>\n",
       "    .dataframe tbody tr th:only-of-type {\n",
       "        vertical-align: middle;\n",
       "    }\n",
       "\n",
       "    .dataframe tbody tr th {\n",
       "        vertical-align: top;\n",
       "    }\n",
       "\n",
       "    .dataframe thead th {\n",
       "        text-align: right;\n",
       "    }\n",
       "</style>\n",
       "<table border=\"1\" class=\"dataframe\">\n",
       "  <thead>\n",
       "    <tr style=\"text-align: right;\">\n",
       "      <th></th>\n",
       "      <th>name</th>\n",
       "    </tr>\n",
       "  </thead>\n",
       "  <tbody>\n",
       "    <tr>\n",
       "      <th>0</th>\n",
       "      <td>Burkina Faso</td>\n",
       "    </tr>\n",
       "    <tr>\n",
       "      <th>1</th>\n",
       "      <td>Cote D'Ivoire (Ivory Coast)</td>\n",
       "    </tr>\n",
       "    <tr>\n",
       "      <th>2</th>\n",
       "      <td>Gambia The</td>\n",
       "    </tr>\n",
       "    <tr>\n",
       "      <th>3</th>\n",
       "      <td>Ghana</td>\n",
       "    </tr>\n",
       "    <tr>\n",
       "      <th>4</th>\n",
       "      <td>Greenland</td>\n",
       "    </tr>\n",
       "    <tr>\n",
       "      <th>5</th>\n",
       "      <td>Guernsey and Alderney</td>\n",
       "    </tr>\n",
       "    <tr>\n",
       "      <th>6</th>\n",
       "      <td>Guinea</td>\n",
       "    </tr>\n",
       "    <tr>\n",
       "      <th>7</th>\n",
       "      <td>Guinea-Bissau</td>\n",
       "    </tr>\n",
       "    <tr>\n",
       "      <th>8</th>\n",
       "      <td>Iceland</td>\n",
       "    </tr>\n",
       "    <tr>\n",
       "      <th>9</th>\n",
       "      <td>Ireland</td>\n",
       "    </tr>\n",
       "    <tr>\n",
       "      <th>10</th>\n",
       "      <td>Jersey</td>\n",
       "    </tr>\n",
       "    <tr>\n",
       "      <th>11</th>\n",
       "      <td>Liberia</td>\n",
       "    </tr>\n",
       "    <tr>\n",
       "      <th>12</th>\n",
       "      <td>Mali</td>\n",
       "    </tr>\n",
       "    <tr>\n",
       "      <th>13</th>\n",
       "      <td>Man (Isle of)</td>\n",
       "    </tr>\n",
       "    <tr>\n",
       "      <th>14</th>\n",
       "      <td>Mauritania</td>\n",
       "    </tr>\n",
       "    <tr>\n",
       "      <th>15</th>\n",
       "      <td>Saint Helena</td>\n",
       "    </tr>\n",
       "    <tr>\n",
       "      <th>16</th>\n",
       "      <td>Sao Tome and Principe</td>\n",
       "    </tr>\n",
       "    <tr>\n",
       "      <th>17</th>\n",
       "      <td>Senegal</td>\n",
       "    </tr>\n",
       "    <tr>\n",
       "      <th>18</th>\n",
       "      <td>Sierra Leone</td>\n",
       "    </tr>\n",
       "    <tr>\n",
       "      <th>19</th>\n",
       "      <td>Togo</td>\n",
       "    </tr>\n",
       "    <tr>\n",
       "      <th>20</th>\n",
       "      <td>United Kingdom</td>\n",
       "    </tr>\n",
       "  </tbody>\n",
       "</table>\n",
       "</div>"
      ],
      "text/plain": [
       "                           name\n",
       "0                  Burkina Faso\n",
       "1   Cote D'Ivoire (Ivory Coast)\n",
       "2                    Gambia The\n",
       "3                         Ghana\n",
       "4                     Greenland\n",
       "5         Guernsey and Alderney\n",
       "6                        Guinea\n",
       "7                 Guinea-Bissau\n",
       "8                       Iceland\n",
       "9                       Ireland\n",
       "10                       Jersey\n",
       "11                      Liberia\n",
       "12                         Mali\n",
       "13                Man (Isle of)\n",
       "14                   Mauritania\n",
       "15                 Saint Helena\n",
       "16        Sao Tome and Principe\n",
       "17                      Senegal\n",
       "18                 Sierra Leone\n",
       "19                         Togo\n",
       "20               United Kingdom"
      ]
     },
     "execution_count": 31,
     "metadata": {},
     "output_type": "execute_result"
    }
   ],
   "source": [
    "query = ''' select  c.name from countries c where c.timezones[0]['abbreviation'] = 'GMT' ''' # querying subelement of timezones\n",
    "result_df = get_result(query, countries)\n",
    "result_df"
   ]
  },
  {
   "cell_type": "markdown",
   "metadata": {},
   "source": [
    "As we can see, there are 20 countries that follow the GMT time zone."
   ]
  },
  {
   "cell_type": "markdown",
   "metadata": {},
   "source": [
    "***User-defined functions on Cosmos DB***"
   ]
  },
  {
   "cell_type": "markdown",
   "metadata": {},
   "source": [
    "Calculate the distance between two countries or states or cities"
   ]
  },
  {
   "cell_type": "code",
   "execution_count": 32,
   "metadata": {},
   "outputs": [],
   "source": [
    "def cal_distance(collection, place1, place2):\n",
    "    ''' \n",
    "    Calculate the distance between two places in the collection\n",
    "\n",
    "    parameters: \n",
    "        collection: Collection\n",
    "        place1: string\n",
    "        place2: string\n",
    "\n",
    "    returns: \n",
    "        distance: float\n",
    "    '''\n",
    "    query01 = f\"SELECT c.longitude, c.latitude FROM collection c WHERE c.name = '{place1}'\"\n",
    "    query02 = f\"SELECT c.longitude, c.latitude FROM collection c WHERE c.name = '{place2}'\"\n",
    "    result01 = get_result(query01, collection)\n",
    "    result02 = get_result(query02, collection)\n",
    "\n",
    "    lo1 = float(result01['longitude'][0]) # get the longitude and latitude from the result as float\n",
    "    la1 = float(result01['latitude'][0])\n",
    "    lo2 = float(result02['longitude'][0])\n",
    "    la2 = float(result02['latitude'][0])\n",
    "\n",
    "    distance =round(math.sqrt(math.pow(69.1 * (la2 - la1), 2) + math.pow(69.1 * (lo1 - lo2) * math.cos(la1 / 57.3), 2)), 1) # math to calculate the distance in miles\n",
    "    return print(\"The distance between {} and {} is {} miles\".format(place1, place2, distance))"
   ]
  },
  {
   "cell_type": "markdown",
   "metadata": {},
   "source": [
    "The distance shown here may vary from actual distance because they are calculated on the basis of latitude and longitude."
   ]
  },
  {
   "cell_type": "code",
   "execution_count": 33,
   "metadata": {},
   "outputs": [
    {
     "name": "stdout",
     "output_type": "stream",
     "text": [
      "The distance between United States and United Kingdom is 5289.9 miles\n"
     ]
    }
   ],
   "source": [
    "cal_distance(countries, 'United States', 'United Kingdom')"
   ]
  },
  {
   "cell_type": "code",
   "execution_count": 34,
   "metadata": {},
   "outputs": [
    {
     "name": "stdout",
     "output_type": "stream",
     "text": [
      "The distance between California and Florida is 2190.3 miles\n"
     ]
    }
   ],
   "source": [
    "cal_distance(states, 'California', 'Florida')"
   ]
  },
  {
   "cell_type": "code",
   "execution_count": 35,
   "metadata": {},
   "outputs": [
    {
     "name": "stdout",
     "output_type": "stream",
     "text": [
      "The distance between Chennai and Mumbai is 647.2 miles\n"
     ]
    }
   ],
   "source": [
    "cal_distance(cities, 'Chennai', 'Mumbai')"
   ]
  },
  {
   "cell_type": "code",
   "execution_count": 36,
   "metadata": {},
   "outputs": [],
   "source": [
    "# Close the client\n",
    "client= None"
   ]
  }
 ],
 "metadata": {
  "kernelspec": {
   "display_name": "Python 3",
   "language": "python",
   "name": "python3"
  },
  "language_info": {
   "codemirror_mode": {
    "name": "ipython",
    "version": 3
   },
   "file_extension": ".py",
   "mimetype": "text/x-python",
   "name": "python",
   "nbconvert_exporter": "python",
   "pygments_lexer": "ipython3",
   "version": "3.12.1"
  }
 },
 "nbformat": 4,
 "nbformat_minor": 2
}
