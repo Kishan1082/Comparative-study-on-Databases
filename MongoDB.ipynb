{
 "cells": [
  {
   "cell_type": "markdown",
   "metadata": {},
   "source": [
    "# Comparitive study on MongoDB and Cosmos DB"
   ]
  },
  {
   "cell_type": "markdown",
   "metadata": {},
   "source": [
    "### Import Libraries"
   ]
  },
  {
   "cell_type": "code",
   "execution_count": 1,
   "metadata": {},
   "outputs": [],
   "source": [
    "import certifi\n",
    "import json\n",
    "import pandas as pd\n",
    "import matplotlib.pyplot as plt\n",
    "import seaborn as sns\n",
    "\n",
    "from pymongo import MongoClient\n",
    "from urllib.parse import quote_plus"
   ]
  },
  {
   "cell_type": "markdown",
   "metadata": {},
   "source": [
    "### Connecting to MongoDB cluster"
   ]
  },
  {
   "cell_type": "code",
   "execution_count": 2,
   "metadata": {},
   "outputs": [],
   "source": [
    "# Set the path to the Certifi CA bundle\n",
    "cafile = certifi.where()\n",
    "\n",
    "# Connect to MongoDB Atlas\n",
    "username = \"aaric\"\n",
    "password = \"Kishan@2001\"\n",
    "cluster_name = \"Cluster0\"\n",
    "\n",
    "# Escape the username and password\n",
    "escaped_username = quote_plus(username)\n",
    "escaped_password = quote_plus(password)\n",
    "\n",
    "# Construct the connection string with escaped credentials\n",
    "connection_string = f\"mongodb+srv://{escaped_username}:{escaped_password}@{cluster_name}.45dnv1b.mongodb.net/retryWrites=true&w=majority\"\n",
    "\n",
    "# Connect to MongoDB Atlas\n",
    "client = MongoClient(connection_string, tlsCAFile=cafile)"
   ]
  },
  {
   "cell_type": "markdown",
   "metadata": {},
   "source": [
    "### Database creation in MongoDB"
   ]
  },
  {
   "cell_type": "markdown",
   "metadata": {},
   "source": [
    "the database is already created and need not to be run again therefore, they are commented to avoid duplication"
   ]
  },
  {
   "cell_type": "code",
   "execution_count": 3,
   "metadata": {},
   "outputs": [],
   "source": [
    "def create_DB(database_name):\n",
    "    ''' \n",
    "    Create a database if it doesn't exist\n",
    "\n",
    "    Parameters:\n",
    "    database_name (str): The name of the database to create\n",
    "\n",
    "    Returns:\n",
    "    db (pymongo.database.Database): The created database\n",
    "    '''\n",
    "\n",
    "    existing_databases = client.list_database_names()\n",
    "    if database_name in existing_databases:\n",
    "        db = client[database_name]\n",
    "        print(f\"Database '{database_name}' already exists.\")\n",
    "    else:\n",
    "        db = client[database_name]\n",
    "        print(f\"Database '{database_name}' created.\")\n",
    "    return db"
   ]
  },
  {
   "cell_type": "code",
   "execution_count": 4,
   "metadata": {},
   "outputs": [
    {
     "name": "stdout",
     "output_type": "stream",
     "text": [
      "Database 'GeoDB' already exists.\n"
     ]
    }
   ],
   "source": [
    "db =create_DB(\"GeoDB\")"
   ]
  },
  {
   "cell_type": "code",
   "execution_count": 5,
   "metadata": {},
   "outputs": [],
   "source": [
    "def create_collection(db, collection_name):\n",
    "    '''\n",
    "    Create a collection if it doesn't exist\n",
    "\n",
    "    Parameters:\n",
    "    db (pymongo.database.Database): The database to create the collection in\n",
    "    collection_name (str): The name of the collection to create\n",
    "\n",
    "    Returns:\n",
    "    collection (pymongo.collection.Collection): The created collection\n",
    "    '''\n",
    "    existing_collections = db.list_collection_names()\n",
    "    if collection_name in existing_collections:\n",
    "        collection = db[collection_name]\n",
    "        print(f\"Collection '{collection_name}' already exists.\")\n",
    "    else:\n",
    "        collection = db[collection_name]\n",
    "        print(f\"Collection '{collection_name}' created.\")\n",
    "    return collection"
   ]
  },
  {
   "cell_type": "code",
   "execution_count": 6,
   "metadata": {},
   "outputs": [
    {
     "name": "stdout",
     "output_type": "stream",
     "text": [
      "Collection 'regions' already exists.\n"
     ]
    }
   ],
   "source": [
    "regions = create_collection(db, \"regions\")"
   ]
  },
  {
   "cell_type": "code",
   "execution_count": 7,
   "metadata": {},
   "outputs": [],
   "source": [
    "def ingest_data(collection, data_path):\n",
    "    '''\n",
    "    Ingest data from a JSON file into a MongoDB collection\n",
    "\n",
    "    Parameters:\n",
    "    collection (pymongo.collection.Collection): The collection to ingest the data into\n",
    "    data_path (str): The path to the JSON file containing the data\n",
    "\n",
    "    Returns:\n",
    "    None\n",
    "    '''\n",
    "    # Load data from the JSON file\n",
    "    with open(data_path, \"r\") as json_file:\n",
    "        data = json.load(json_file)\n",
    "\n",
    "    # Insert the data into the collection\n",
    "    collection.insert_many(data)\n",
    "\n",
    "    print(\"Data ingested successfully\")"
   ]
  },
  {
   "cell_type": "code",
   "execution_count": 8,
   "metadata": {},
   "outputs": [],
   "source": [
    "#ingest_data(regions, \"Geo_data/regions.json\")"
   ]
  },
  {
   "cell_type": "code",
   "execution_count": 9,
   "metadata": {},
   "outputs": [
    {
     "name": "stdout",
     "output_type": "stream",
     "text": [
      "Collection 'subregions' already exists.\n"
     ]
    }
   ],
   "source": [
    "subregions = create_collection(db, \"subregions\")\n",
    "#ingest_data(subregions, \"Geo_data/subregions.json\")"
   ]
  },
  {
   "cell_type": "code",
   "execution_count": 10,
   "metadata": {},
   "outputs": [
    {
     "name": "stdout",
     "output_type": "stream",
     "text": [
      "Collection 'countries' already exists.\n"
     ]
    }
   ],
   "source": [
    "countries = create_collection(db, \"countries\")\n",
    "#ingest_data(countries, \"Geo_data/countries.json\")"
   ]
  },
  {
   "cell_type": "code",
   "execution_count": 11,
   "metadata": {},
   "outputs": [
    {
     "name": "stdout",
     "output_type": "stream",
     "text": [
      "Collection 'states' already exists.\n"
     ]
    }
   ],
   "source": [
    "states = create_collection(db, \"states\")\n",
    "#ingest_data(states, \"Geo_data/states.json\")"
   ]
  },
  {
   "cell_type": "code",
   "execution_count": 12,
   "metadata": {},
   "outputs": [
    {
     "name": "stdout",
     "output_type": "stream",
     "text": [
      "Collection 'cities' already exists.\n"
     ]
    }
   ],
   "source": [
    "cities = create_collection(db, \"cities\")\n",
    "#ingest_data(cities, \"Geo_data/cities.json\")"
   ]
  },
  {
   "cell_type": "markdown",
   "metadata": {},
   "source": [
    "### Querying MongoDB"
   ]
  },
  {
   "cell_type": "code",
   "execution_count": 13,
   "metadata": {},
   "outputs": [],
   "source": [
    "# Load the database and collections\n",
    "\n",
    "db = client[\"GeoDB\"]\n",
    "regions = db[\"regions\"]\n",
    "subregions = db[\"subregions\"]\n",
    "countries = db[\"countries\"]\n",
    "states = db[\"states\"]\n",
    "cities = db[\"cities\"]"
   ]
  },
  {
   "cell_type": "code",
   "execution_count": 14,
   "metadata": {},
   "outputs": [],
   "source": [
    "def get_result(result):\n",
    "    '''\n",
    "    Get the result of a MongoDB query as a Pandas DataFrame\n",
    "\n",
    "    Parameters:\n",
    "    result (pymongo.cursor.Cursor): The result of the query\n",
    "\n",
    "    Returns:\n",
    "    df (pandas.DataFrame): The result of the query as a Pandas DataFrame\n",
    "    '''\n",
    "    result_list = list(result)\n",
    "    df = pd.DataFrame(result_list)\n",
    "    return df"
   ]
  },
  {
   "cell_type": "markdown",
   "metadata": {},
   "source": [
    "### Comparing the basic query methods used in Cosmos DB with MongoDB"
   ]
  },
  {
   "cell_type": "markdown",
   "metadata": {},
   "source": [
    "***SELECT***\n",
    "\n",
    "List all regions in the database."
   ]
  },
  {
   "cell_type": "code",
   "execution_count": 15,
   "metadata": {},
   "outputs": [
    {
     "data": {
      "text/plain": [
       "<pymongo.cursor.Cursor at 0x136bf3740>"
      ]
     },
     "execution_count": 15,
     "metadata": {},
     "output_type": "execute_result"
    }
   ],
   "source": [
    "result = regions.find({}) # get all the regions\n",
    "result"
   ]
  },
  {
   "cell_type": "markdown",
   "metadata": {},
   "source": [
    "The result is a cursor object, which can be viewed by iterating over it."
   ]
  },
  {
   "cell_type": "code",
   "execution_count": 16,
   "metadata": {},
   "outputs": [
    {
     "name": "stdout",
     "output_type": "stream",
     "text": [
      "{'_id': ObjectId('66268af5ac478f9fc51a1ab5'), 'id': 1, 'name': 'Africa', 'translations': {'kr': '아프리카', 'pt-BR': 'África', 'pt': 'África', 'nl': 'Afrika', 'hr': 'Afrika', 'fa': 'آفریقا', 'de': 'Afrika', 'es': 'África', 'fr': 'Afrique', 'ja': 'アフリカ', 'it': 'Africa', 'cn': '非洲', 'tr': 'Afrika'}, 'wikiDataId': 'Q15'}\n",
      "{'_id': ObjectId('66268af5ac478f9fc51a1ab6'), 'id': 2, 'name': 'Americas', 'translations': {'kr': '아메리카', 'pt-BR': 'América', 'pt': 'América', 'nl': 'Amerika', 'hr': 'Amerika', 'fa': 'قاره آمریکا', 'de': 'Amerika', 'es': 'América', 'fr': 'Amérique', 'ja': 'アメリカ州', 'it': 'America', 'cn': '美洲', 'tr': 'Amerika'}, 'wikiDataId': 'Q828'}\n",
      "{'_id': ObjectId('66268af5ac478f9fc51a1ab7'), 'id': 3, 'name': 'Asia', 'translations': {'kr': '아시아', 'pt-BR': 'Ásia', 'pt': 'Ásia', 'nl': 'Azië', 'hr': 'Ázsia', 'fa': 'آسیا', 'de': 'Asien', 'es': 'Asia', 'fr': 'Asie', 'ja': 'アジア', 'it': 'Asia', 'cn': '亚洲', 'tr': 'Asya'}, 'wikiDataId': 'Q48'}\n",
      "{'_id': ObjectId('66268af5ac478f9fc51a1ab8'), 'id': 4, 'name': 'Europe', 'translations': {'kr': '유럽', 'pt-BR': 'Europa', 'pt': 'Europa', 'nl': 'Europa', 'hr': 'Európa', 'fa': 'اروپا', 'de': 'Europa', 'es': 'Europa', 'fr': 'Europe', 'ja': 'ヨーロッパ', 'it': 'Europa', 'cn': '欧洲', 'tr': 'Avrupa'}, 'wikiDataId': 'Q46'}\n",
      "{'_id': ObjectId('66268af5ac478f9fc51a1ab9'), 'id': 5, 'name': 'Oceania', 'translations': {'kr': '오세아니아', 'pt-BR': 'Oceania', 'pt': 'Oceania', 'nl': 'Oceanië en Australië', 'hr': 'Óceánia és Ausztrália', 'fa': 'اقیانوسیه', 'de': 'Ozeanien und Australien', 'es': 'Oceanía', 'fr': 'Océanie', 'ja': 'オセアニア', 'it': 'Oceania', 'cn': '大洋洲', 'tr': 'Okyanusya'}, 'wikiDataId': 'Q55643'}\n",
      "{'_id': ObjectId('66268af5ac478f9fc51a1aba'), 'id': 6, 'name': 'Polar', 'translations': {'kr': '남극', 'pt-BR': 'Antártida', 'pt': 'Antártida', 'nl': 'Antarctica', 'hr': 'Antarktika', 'fa': 'جنوبگان', 'de': 'Antarktika', 'es': 'Antártida', 'fr': 'Antarctique', 'ja': '南極大陸', 'it': 'Antartide', 'cn': '南極洲', 'tr': 'Antarktika'}, 'wikiDataId': 'Q51'}\n"
     ]
    }
   ],
   "source": [
    "for res in result:\n",
    "    print(res)"
   ]
  },
  {
   "cell_type": "markdown",
   "metadata": {},
   "source": [
    "To have a better view of the results, we can convert them to a Pandas DataFrame."
   ]
  },
  {
   "cell_type": "code",
   "execution_count": 17,
   "metadata": {},
   "outputs": [
    {
     "data": {
      "text/html": [
       "<div>\n",
       "<style scoped>\n",
       "    .dataframe tbody tr th:only-of-type {\n",
       "        vertical-align: middle;\n",
       "    }\n",
       "\n",
       "    .dataframe tbody tr th {\n",
       "        vertical-align: top;\n",
       "    }\n",
       "\n",
       "    .dataframe thead th {\n",
       "        text-align: right;\n",
       "    }\n",
       "</style>\n",
       "<table border=\"1\" class=\"dataframe\">\n",
       "  <thead>\n",
       "    <tr style=\"text-align: right;\">\n",
       "      <th></th>\n",
       "      <th>_id</th>\n",
       "      <th>id</th>\n",
       "      <th>name</th>\n",
       "      <th>translations</th>\n",
       "      <th>wikiDataId</th>\n",
       "    </tr>\n",
       "  </thead>\n",
       "  <tbody>\n",
       "    <tr>\n",
       "      <th>0</th>\n",
       "      <td>66268af5ac478f9fc51a1ab5</td>\n",
       "      <td>1</td>\n",
       "      <td>Africa</td>\n",
       "      <td>{'kr': '아프리카', 'pt-BR': 'África', 'pt': 'Áfric...</td>\n",
       "      <td>Q15</td>\n",
       "    </tr>\n",
       "    <tr>\n",
       "      <th>1</th>\n",
       "      <td>66268af5ac478f9fc51a1ab6</td>\n",
       "      <td>2</td>\n",
       "      <td>Americas</td>\n",
       "      <td>{'kr': '아메리카', 'pt-BR': 'América', 'pt': 'Amér...</td>\n",
       "      <td>Q828</td>\n",
       "    </tr>\n",
       "    <tr>\n",
       "      <th>2</th>\n",
       "      <td>66268af5ac478f9fc51a1ab7</td>\n",
       "      <td>3</td>\n",
       "      <td>Asia</td>\n",
       "      <td>{'kr': '아시아', 'pt-BR': 'Ásia', 'pt': 'Ásia', '...</td>\n",
       "      <td>Q48</td>\n",
       "    </tr>\n",
       "    <tr>\n",
       "      <th>3</th>\n",
       "      <td>66268af5ac478f9fc51a1ab8</td>\n",
       "      <td>4</td>\n",
       "      <td>Europe</td>\n",
       "      <td>{'kr': '유럽', 'pt-BR': 'Europa', 'pt': 'Europa'...</td>\n",
       "      <td>Q46</td>\n",
       "    </tr>\n",
       "    <tr>\n",
       "      <th>4</th>\n",
       "      <td>66268af5ac478f9fc51a1ab9</td>\n",
       "      <td>5</td>\n",
       "      <td>Oceania</td>\n",
       "      <td>{'kr': '오세아니아', 'pt-BR': 'Oceania', 'pt': 'Oce...</td>\n",
       "      <td>Q55643</td>\n",
       "    </tr>\n",
       "    <tr>\n",
       "      <th>5</th>\n",
       "      <td>66268af5ac478f9fc51a1aba</td>\n",
       "      <td>6</td>\n",
       "      <td>Polar</td>\n",
       "      <td>{'kr': '남극', 'pt-BR': 'Antártida', 'pt': 'Antá...</td>\n",
       "      <td>Q51</td>\n",
       "    </tr>\n",
       "  </tbody>\n",
       "</table>\n",
       "</div>"
      ],
      "text/plain": [
       "                        _id  id      name  \\\n",
       "0  66268af5ac478f9fc51a1ab5   1    Africa   \n",
       "1  66268af5ac478f9fc51a1ab6   2  Americas   \n",
       "2  66268af5ac478f9fc51a1ab7   3      Asia   \n",
       "3  66268af5ac478f9fc51a1ab8   4    Europe   \n",
       "4  66268af5ac478f9fc51a1ab9   5   Oceania   \n",
       "5  66268af5ac478f9fc51a1aba   6     Polar   \n",
       "\n",
       "                                        translations wikiDataId  \n",
       "0  {'kr': '아프리카', 'pt-BR': 'África', 'pt': 'Áfric...        Q15  \n",
       "1  {'kr': '아메리카', 'pt-BR': 'América', 'pt': 'Amér...       Q828  \n",
       "2  {'kr': '아시아', 'pt-BR': 'Ásia', 'pt': 'Ásia', '...        Q48  \n",
       "3  {'kr': '유럽', 'pt-BR': 'Europa', 'pt': 'Europa'...        Q46  \n",
       "4  {'kr': '오세아니아', 'pt-BR': 'Oceania', 'pt': 'Oce...     Q55643  \n",
       "5  {'kr': '남극', 'pt-BR': 'Antártida', 'pt': 'Antá...        Q51  "
      ]
     },
     "execution_count": 17,
     "metadata": {},
     "output_type": "execute_result"
    }
   ],
   "source": [
    "result = regions.find({}) # get all the regions\n",
    "regions_df = get_result(result)\n",
    "regions_df"
   ]
  },
  {
   "cell_type": "markdown",
   "metadata": {},
   "source": [
    "***Filter***\n",
    "\n",
    "Find all the states in united states."
   ]
  },
  {
   "cell_type": "code",
   "execution_count": 18,
   "metadata": {},
   "outputs": [
    {
     "data": {
      "text/html": [
       "<div>\n",
       "<style scoped>\n",
       "    .dataframe tbody tr th:only-of-type {\n",
       "        vertical-align: middle;\n",
       "    }\n",
       "\n",
       "    .dataframe tbody tr th {\n",
       "        vertical-align: top;\n",
       "    }\n",
       "\n",
       "    .dataframe thead th {\n",
       "        text-align: right;\n",
       "    }\n",
       "</style>\n",
       "<table border=\"1\" class=\"dataframe\">\n",
       "  <thead>\n",
       "    <tr style=\"text-align: right;\">\n",
       "      <th></th>\n",
       "      <th>_id</th>\n",
       "      <th>id</th>\n",
       "      <th>name</th>\n",
       "      <th>country_id</th>\n",
       "      <th>country_code</th>\n",
       "      <th>country_name</th>\n",
       "      <th>state_code</th>\n",
       "      <th>type</th>\n",
       "      <th>latitude</th>\n",
       "      <th>longitude</th>\n",
       "    </tr>\n",
       "  </thead>\n",
       "  <tbody>\n",
       "    <tr>\n",
       "      <th>0</th>\n",
       "      <td>66268b8dac478f9fc51a2ec0</td>\n",
       "      <td>1398</td>\n",
       "      <td>Howland Island</td>\n",
       "      <td>233</td>\n",
       "      <td>US</td>\n",
       "      <td>United States</td>\n",
       "      <td>UM-84</td>\n",
       "      <td>islands / groups of islands</td>\n",
       "      <td>0.81132190</td>\n",
       "      <td>-176.61827360</td>\n",
       "    </tr>\n",
       "    <tr>\n",
       "      <th>1</th>\n",
       "      <td>66268b8dac478f9fc51a2eba</td>\n",
       "      <td>1399</td>\n",
       "      <td>Delaware</td>\n",
       "      <td>233</td>\n",
       "      <td>US</td>\n",
       "      <td>United States</td>\n",
       "      <td>DE</td>\n",
       "      <td>state</td>\n",
       "      <td>38.91083250</td>\n",
       "      <td>-75.52766990</td>\n",
       "    </tr>\n",
       "    <tr>\n",
       "      <th>2</th>\n",
       "      <td>66268b8dac478f9fc51a2eb2</td>\n",
       "      <td>1400</td>\n",
       "      <td>Alaska</td>\n",
       "      <td>233</td>\n",
       "      <td>US</td>\n",
       "      <td>United States</td>\n",
       "      <td>AK</td>\n",
       "      <td>state</td>\n",
       "      <td>64.20084130</td>\n",
       "      <td>-149.49367330</td>\n",
       "    </tr>\n",
       "    <tr>\n",
       "      <th>3</th>\n",
       "      <td>66268b8dac478f9fc51a2ecc</td>\n",
       "      <td>1401</td>\n",
       "      <td>Maryland</td>\n",
       "      <td>233</td>\n",
       "      <td>US</td>\n",
       "      <td>United States</td>\n",
       "      <td>MD</td>\n",
       "      <td>state</td>\n",
       "      <td>39.04575490</td>\n",
       "      <td>-76.64127120</td>\n",
       "    </tr>\n",
       "    <tr>\n",
       "      <th>4</th>\n",
       "      <td>66268b8dac478f9fc51a2eb6</td>\n",
       "      <td>1402</td>\n",
       "      <td>Baker Island</td>\n",
       "      <td>233</td>\n",
       "      <td>US</td>\n",
       "      <td>United States</td>\n",
       "      <td>UM-81</td>\n",
       "      <td>islands / groups of islands</td>\n",
       "      <td>0.19362660</td>\n",
       "      <td>-176.47690800</td>\n",
       "    </tr>\n",
       "    <tr>\n",
       "      <th>...</th>\n",
       "      <td>...</td>\n",
       "      <td>...</td>\n",
       "      <td>...</td>\n",
       "      <td>...</td>\n",
       "      <td>...</td>\n",
       "      <td>...</td>\n",
       "      <td>...</td>\n",
       "      <td>...</td>\n",
       "      <td>...</td>\n",
       "      <td>...</td>\n",
       "    </tr>\n",
       "    <tr>\n",
       "      <th>61</th>\n",
       "      <td>66268b8dac478f9fc51a2ec4</td>\n",
       "      <td>1459</td>\n",
       "      <td>Iowa</td>\n",
       "      <td>233</td>\n",
       "      <td>US</td>\n",
       "      <td>United States</td>\n",
       "      <td>IA</td>\n",
       "      <td>state</td>\n",
       "      <td>41.87800250</td>\n",
       "      <td>-93.09770200</td>\n",
       "    </tr>\n",
       "    <tr>\n",
       "      <th>62</th>\n",
       "      <td>66268b8dac478f9fc51a2ec1</td>\n",
       "      <td>1460</td>\n",
       "      <td>Idaho</td>\n",
       "      <td>233</td>\n",
       "      <td>US</td>\n",
       "      <td>United States</td>\n",
       "      <td>ID</td>\n",
       "      <td>state</td>\n",
       "      <td>44.06820190</td>\n",
       "      <td>-114.74204080</td>\n",
       "    </tr>\n",
       "    <tr>\n",
       "      <th>63</th>\n",
       "      <td>66268b8dac478f9fc51a2ee4</td>\n",
       "      <td>1461</td>\n",
       "      <td>Rhode Island</td>\n",
       "      <td>233</td>\n",
       "      <td>US</td>\n",
       "      <td>United States</td>\n",
       "      <td>RI</td>\n",
       "      <td>state</td>\n",
       "      <td>41.58009450</td>\n",
       "      <td>-71.47742910</td>\n",
       "    </tr>\n",
       "    <tr>\n",
       "      <th>64</th>\n",
       "      <td>66268b8dac478f9fc51a2eef</td>\n",
       "      <td>1462</td>\n",
       "      <td>Washington</td>\n",
       "      <td>233</td>\n",
       "      <td>US</td>\n",
       "      <td>United States</td>\n",
       "      <td>WA</td>\n",
       "      <td>state</td>\n",
       "      <td>47.75107410</td>\n",
       "      <td>-120.74013850</td>\n",
       "    </tr>\n",
       "    <tr>\n",
       "      <th>65</th>\n",
       "      <td>66268b8dac478f9fc51a2ede</td>\n",
       "      <td>4851</td>\n",
       "      <td>Ohio</td>\n",
       "      <td>233</td>\n",
       "      <td>US</td>\n",
       "      <td>United States</td>\n",
       "      <td>OH</td>\n",
       "      <td>state</td>\n",
       "      <td>40.41728710</td>\n",
       "      <td>-82.90712300</td>\n",
       "    </tr>\n",
       "  </tbody>\n",
       "</table>\n",
       "<p>66 rows × 10 columns</p>\n",
       "</div>"
      ],
      "text/plain": [
       "                         _id    id            name  country_id country_code  \\\n",
       "0   66268b8dac478f9fc51a2ec0  1398  Howland Island         233           US   \n",
       "1   66268b8dac478f9fc51a2eba  1399        Delaware         233           US   \n",
       "2   66268b8dac478f9fc51a2eb2  1400          Alaska         233           US   \n",
       "3   66268b8dac478f9fc51a2ecc  1401        Maryland         233           US   \n",
       "4   66268b8dac478f9fc51a2eb6  1402    Baker Island         233           US   \n",
       "..                       ...   ...             ...         ...          ...   \n",
       "61  66268b8dac478f9fc51a2ec4  1459            Iowa         233           US   \n",
       "62  66268b8dac478f9fc51a2ec1  1460           Idaho         233           US   \n",
       "63  66268b8dac478f9fc51a2ee4  1461    Rhode Island         233           US   \n",
       "64  66268b8dac478f9fc51a2eef  1462      Washington         233           US   \n",
       "65  66268b8dac478f9fc51a2ede  4851            Ohio         233           US   \n",
       "\n",
       "     country_name state_code                         type     latitude  \\\n",
       "0   United States      UM-84  islands / groups of islands   0.81132190   \n",
       "1   United States         DE                        state  38.91083250   \n",
       "2   United States         AK                        state  64.20084130   \n",
       "3   United States         MD                        state  39.04575490   \n",
       "4   United States      UM-81  islands / groups of islands   0.19362660   \n",
       "..            ...        ...                          ...          ...   \n",
       "61  United States         IA                        state  41.87800250   \n",
       "62  United States         ID                        state  44.06820190   \n",
       "63  United States         RI                        state  41.58009450   \n",
       "64  United States         WA                        state  47.75107410   \n",
       "65  United States         OH                        state  40.41728710   \n",
       "\n",
       "        longitude  \n",
       "0   -176.61827360  \n",
       "1    -75.52766990  \n",
       "2   -149.49367330  \n",
       "3    -76.64127120  \n",
       "4   -176.47690800  \n",
       "..            ...  \n",
       "61   -93.09770200  \n",
       "62  -114.74204080  \n",
       "63   -71.47742910  \n",
       "64  -120.74013850  \n",
       "65   -82.90712300  \n",
       "\n",
       "[66 rows x 10 columns]"
      ]
     },
     "execution_count": 18,
     "metadata": {},
     "output_type": "execute_result"
    }
   ],
   "source": [
    "query = {\"country_name\": \"United States\"}  # Find documents where country_name is \"United States\"\n",
    "result = states.find(query).sort(\"id\", 1)\n",
    "states_df = get_result(result)\n",
    "states_df"
   ]
  },
  {
   "cell_type": "markdown",
   "metadata": {},
   "source": [
    "***Group by***\n",
    "\n",
    "Find the number of countries in each sub regions in asian region."
   ]
  },
  {
   "cell_type": "markdown",
   "metadata": {},
   "source": [
    "The mongodb does not support group by directly in queries, so we need to use aggregation."
   ]
  },
  {
   "cell_type": "code",
   "execution_count": 19,
   "metadata": {},
   "outputs": [],
   "source": [
    "# Define the aggregation pipeline\n",
    "pipeline = [\n",
    "    {\"$match\": {\"region\": \"Asia\"}},  # Filter documents where region is \"Asia\"\n",
    "    {\"$group\": {\n",
    "        \"_id\": \"$subregion\",  # Group by subregion field\n",
    "        \"countries\": {\"$push\": \"$$ROOT\"},  # Store matching documents in an array\n",
    "        \"count\": {\"$sum\": 1}  # Count the number of documents in each group\n",
    "    }}\n",
    "]\n",
    "\n",
    "result = countries.aggregate(pipeline)"
   ]
  },
  {
   "cell_type": "code",
   "execution_count": 20,
   "metadata": {},
   "outputs": [
    {
     "data": {
      "text/html": [
       "<div>\n",
       "<style scoped>\n",
       "    .dataframe tbody tr th:only-of-type {\n",
       "        vertical-align: middle;\n",
       "    }\n",
       "\n",
       "    .dataframe tbody tr th {\n",
       "        vertical-align: top;\n",
       "    }\n",
       "\n",
       "    .dataframe thead th {\n",
       "        text-align: right;\n",
       "    }\n",
       "</style>\n",
       "<table border=\"1\" class=\"dataframe\">\n",
       "  <thead>\n",
       "    <tr style=\"text-align: right;\">\n",
       "      <th></th>\n",
       "      <th>_id</th>\n",
       "      <th>countries</th>\n",
       "      <th>count</th>\n",
       "    </tr>\n",
       "  </thead>\n",
       "  <tbody>\n",
       "    <tr>\n",
       "      <th>3</th>\n",
       "      <td>Western Asia</td>\n",
       "      <td>[{'_id': 66268b7dac478f9fc51a1adc, 'id': 12, '...</td>\n",
       "      <td>17</td>\n",
       "    </tr>\n",
       "    <tr>\n",
       "      <th>0</th>\n",
       "      <td>South-Eastern Asia</td>\n",
       "      <td>[{'_id': 66268b7dac478f9fc51a1af1, 'id': 33, '...</td>\n",
       "      <td>11</td>\n",
       "    </tr>\n",
       "    <tr>\n",
       "      <th>1</th>\n",
       "      <td>Southern Asia</td>\n",
       "      <td>[{'_id': 66268b7dac478f9fc51a1ad1, 'id': 1, 'n...</td>\n",
       "      <td>9</td>\n",
       "    </tr>\n",
       "    <tr>\n",
       "      <th>2</th>\n",
       "      <td>Eastern Asia</td>\n",
       "      <td>[{'_id': 66268b7dac478f9fc51a1afd, 'id': 45, '...</td>\n",
       "      <td>8</td>\n",
       "    </tr>\n",
       "    <tr>\n",
       "      <th>4</th>\n",
       "      <td>Central Asia</td>\n",
       "      <td>[{'_id': 66268b7dac478f9fc51a1b41, 'id': 112, ...</td>\n",
       "      <td>5</td>\n",
       "    </tr>\n",
       "  </tbody>\n",
       "</table>\n",
       "</div>"
      ],
      "text/plain": [
       "                  _id                                          countries  \\\n",
       "3        Western Asia  [{'_id': 66268b7dac478f9fc51a1adc, 'id': 12, '...   \n",
       "0  South-Eastern Asia  [{'_id': 66268b7dac478f9fc51a1af1, 'id': 33, '...   \n",
       "1       Southern Asia  [{'_id': 66268b7dac478f9fc51a1ad1, 'id': 1, 'n...   \n",
       "2        Eastern Asia  [{'_id': 66268b7dac478f9fc51a1afd, 'id': 45, '...   \n",
       "4        Central Asia  [{'_id': 66268b7dac478f9fc51a1b41, 'id': 112, ...   \n",
       "\n",
       "   count  \n",
       "3     17  \n",
       "0     11  \n",
       "1      9  \n",
       "2      8  \n",
       "4      5  "
      ]
     },
     "execution_count": 20,
     "metadata": {},
     "output_type": "execute_result"
    }
   ],
   "source": [
    "result_df = get_result(result)\n",
    "result_df = result_df.sort_values(by=\"count\", ascending=False)\n",
    "result_df"
   ]
  },
  {
   "cell_type": "code",
   "execution_count": 21,
   "metadata": {},
   "outputs": [
    {
     "data": {
      "image/png": "[encoded data removed]",
      "text/plain": [
       "<Figure size 700x500 with 1 Axes>"
      ]
     },
     "metadata": {},
     "output_type": "display_data"
    }
   ],
   "source": [
    "plt.figure(figsize=(7, 5))\n",
    "colors = sns.color_palette('bright')\n",
    "plt.bar(result_df[\"_id\"], result_df[\"count\"], color=colors) # plot the number of countries per subregion\n",
    "plt.xlabel('Subregions')\n",
    "plt.ylabel('Countries')\n",
    "plt.title('Number of Countries per subregion')\n",
    "plt.tight_layout() \n",
    "plt.show()"
   ]
  },
  {
   "cell_type": "markdown",
   "metadata": {},
   "source": [
    "***Count***\n",
    "\n",
    "Count the number of islands associated with United States"
   ]
  },
  {
   "cell_type": "markdown",
   "metadata": {},
   "source": [
    "The count_documents method returns the number of documents that match the query."
   ]
  },
  {
   "cell_type": "code",
   "execution_count": 22,
   "metadata": {},
   "outputs": [
    {
     "name": "stdout",
     "output_type": "stream",
     "text": [
      "There are 9 islands in the United States.\n"
     ]
    }
   ],
   "source": [
    "query = {\"country_name\": \"United States\", \"type\": \"islands / groups of islands\"}  # Find documents where country_name is \"United States\" and type is \"islands / groups of islands\"\n",
    "result = states.count_documents(query)\n",
    "print(\"There are\", result, \"islands in the United States.\")"
   ]
  },
  {
   "cell_type": "markdown",
   "metadata": {},
   "source": [
    "***Order by***\n",
    "\n",
    "List all states in India in alphabetical order"
   ]
  },
  {
   "cell_type": "code",
   "execution_count": 23,
   "metadata": {},
   "outputs": [
    {
     "data": {
      "text/html": [
       "<div>\n",
       "<style scoped>\n",
       "    .dataframe tbody tr th:only-of-type {\n",
       "        vertical-align: middle;\n",
       "    }\n",
       "\n",
       "    .dataframe tbody tr th {\n",
       "        vertical-align: top;\n",
       "    }\n",
       "\n",
       "    .dataframe thead th {\n",
       "        text-align: right;\n",
       "    }\n",
       "</style>\n",
       "<table border=\"1\" class=\"dataframe\">\n",
       "  <thead>\n",
       "    <tr style=\"text-align: right;\">\n",
       "      <th></th>\n",
       "      <th>_id</th>\n",
       "      <th>id</th>\n",
       "      <th>name</th>\n",
       "      <th>country_id</th>\n",
       "      <th>country_code</th>\n",
       "      <th>country_name</th>\n",
       "      <th>state_code</th>\n",
       "      <th>type</th>\n",
       "      <th>latitude</th>\n",
       "      <th>longitude</th>\n",
       "    </tr>\n",
       "  </thead>\n",
       "  <tbody>\n",
       "    <tr>\n",
       "      <th>0</th>\n",
       "      <td>66268b8dac478f9fc51a222a</td>\n",
       "      <td>4023</td>\n",
       "      <td>Andaman and Nicobar Islands</td>\n",
       "      <td>101</td>\n",
       "      <td>IN</td>\n",
       "      <td>India</td>\n",
       "      <td>AN</td>\n",
       "      <td>Union territory</td>\n",
       "      <td>11.74008670</td>\n",
       "      <td>92.65864010</td>\n",
       "    </tr>\n",
       "    <tr>\n",
       "      <th>1</th>\n",
       "      <td>66268b8dac478f9fc51a222b</td>\n",
       "      <td>4017</td>\n",
       "      <td>Andhra Pradesh</td>\n",
       "      <td>101</td>\n",
       "      <td>IN</td>\n",
       "      <td>India</td>\n",
       "      <td>AP</td>\n",
       "      <td>state</td>\n",
       "      <td>15.91289980</td>\n",
       "      <td>79.73998750</td>\n",
       "    </tr>\n",
       "    <tr>\n",
       "      <th>2</th>\n",
       "      <td>66268b8dac478f9fc51a222c</td>\n",
       "      <td>4024</td>\n",
       "      <td>Arunachal Pradesh</td>\n",
       "      <td>101</td>\n",
       "      <td>IN</td>\n",
       "      <td>India</td>\n",
       "      <td>AR</td>\n",
       "      <td>state</td>\n",
       "      <td>28.21799940</td>\n",
       "      <td>94.72775280</td>\n",
       "    </tr>\n",
       "    <tr>\n",
       "      <th>3</th>\n",
       "      <td>66268b8dac478f9fc51a222d</td>\n",
       "      <td>4027</td>\n",
       "      <td>Assam</td>\n",
       "      <td>101</td>\n",
       "      <td>IN</td>\n",
       "      <td>India</td>\n",
       "      <td>AS</td>\n",
       "      <td>state</td>\n",
       "      <td>26.20060430</td>\n",
       "      <td>92.93757390</td>\n",
       "    </tr>\n",
       "    <tr>\n",
       "      <th>4</th>\n",
       "      <td>66268b8dac478f9fc51a222e</td>\n",
       "      <td>4037</td>\n",
       "      <td>Bihar</td>\n",
       "      <td>101</td>\n",
       "      <td>IN</td>\n",
       "      <td>India</td>\n",
       "      <td>BR</td>\n",
       "      <td>state</td>\n",
       "      <td>25.09607420</td>\n",
       "      <td>85.31311940</td>\n",
       "    </tr>\n",
       "  </tbody>\n",
       "</table>\n",
       "</div>"
      ],
      "text/plain": [
       "                        _id    id                         name  country_id  \\\n",
       "0  66268b8dac478f9fc51a222a  4023  Andaman and Nicobar Islands         101   \n",
       "1  66268b8dac478f9fc51a222b  4017               Andhra Pradesh         101   \n",
       "2  66268b8dac478f9fc51a222c  4024            Arunachal Pradesh         101   \n",
       "3  66268b8dac478f9fc51a222d  4027                        Assam         101   \n",
       "4  66268b8dac478f9fc51a222e  4037                        Bihar         101   \n",
       "\n",
       "  country_code country_name state_code             type     latitude  \\\n",
       "0           IN        India         AN  Union territory  11.74008670   \n",
       "1           IN        India         AP            state  15.91289980   \n",
       "2           IN        India         AR            state  28.21799940   \n",
       "3           IN        India         AS            state  26.20060430   \n",
       "4           IN        India         BR            state  25.09607420   \n",
       "\n",
       "     longitude  \n",
       "0  92.65864010  \n",
       "1  79.73998750  \n",
       "2  94.72775280  \n",
       "3  92.93757390  \n",
       "4  85.31311940  "
      ]
     },
     "execution_count": 23,
     "metadata": {},
     "output_type": "execute_result"
    }
   ],
   "source": [
    "query = {\"country_name\": \"India\"} # Find documents where country_name is \"India\"\n",
    "result = states.find(query).sort(\"name\", 1) # Sort the results by name in ascending order\n",
    "result_df = get_result(result)\n",
    "result_df.head()"
   ]
  },
  {
   "cell_type": "markdown",
   "metadata": {},
   "source": [
    "***Querying sub-elements***\n",
    "\n",
    "Find the Chinese names of countries in Americas region"
   ]
  },
  {
   "cell_type": "code",
   "execution_count": 24,
   "metadata": {},
   "outputs": [
    {
     "data": {
      "text/html": [
       "<div>\n",
       "<style scoped>\n",
       "    .dataframe tbody tr th:only-of-type {\n",
       "        vertical-align: middle;\n",
       "    }\n",
       "\n",
       "    .dataframe tbody tr th {\n",
       "        vertical-align: top;\n",
       "    }\n",
       "\n",
       "    .dataframe thead th {\n",
       "        text-align: right;\n",
       "    }\n",
       "</style>\n",
       "<table border=\"1\" class=\"dataframe\">\n",
       "  <thead>\n",
       "    <tr style=\"text-align: right;\">\n",
       "      <th></th>\n",
       "      <th>country_name</th>\n",
       "      <th>chinese_name</th>\n",
       "    </tr>\n",
       "  </thead>\n",
       "  <tbody>\n",
       "    <tr>\n",
       "      <th>0</th>\n",
       "      <td>Anguilla</td>\n",
       "      <td>安圭拉</td>\n",
       "    </tr>\n",
       "    <tr>\n",
       "      <th>1</th>\n",
       "      <td>Antigua and Barbuda</td>\n",
       "      <td>安提瓜和巴布达</td>\n",
       "    </tr>\n",
       "    <tr>\n",
       "      <th>2</th>\n",
       "      <td>Argentina</td>\n",
       "      <td>阿根廷</td>\n",
       "    </tr>\n",
       "    <tr>\n",
       "      <th>3</th>\n",
       "      <td>Aruba</td>\n",
       "      <td>阿鲁巴</td>\n",
       "    </tr>\n",
       "    <tr>\n",
       "      <th>4</th>\n",
       "      <td>Barbados</td>\n",
       "      <td>巴巴多斯</td>\n",
       "    </tr>\n",
       "  </tbody>\n",
       "</table>\n",
       "</div>"
      ],
      "text/plain": [
       "          country_name chinese_name\n",
       "0             Anguilla          安圭拉\n",
       "1  Antigua and Barbuda      安提瓜和巴布达\n",
       "2            Argentina          阿根廷\n",
       "3                Aruba          阿鲁巴\n",
       "4             Barbados         巴巴多斯"
      ]
     },
     "execution_count": 24,
     "metadata": {},
     "output_type": "execute_result"
    }
   ],
   "source": [
    "query = {\"region\": \"Americas\"}\n",
    "result = countries.find(query)\n",
    "projection = {\"_id\": 0, \"name\": 1, \"translations.cn\": 1} # using projection to only get the name and chinese name\n",
    "\n",
    "data_list = []\n",
    "for doc in result:\n",
    "    data_list.append({\"country_name\": doc[\"name\"], \"chinese_name\": doc.get(\"translations\", {}).get(\"cn\")})\n",
    "\n",
    "result_df = pd.DataFrame(data_list)\n",
    "result_df.head()\n"
   ]
  },
  {
   "cell_type": "markdown",
   "metadata": {},
   "source": [
    "***Join using aggregate***"
   ]
  },
  {
   "cell_type": "markdown",
   "metadata": {},
   "source": [
    "Join the states and countries collections based on the country_id field."
   ]
  },
  {
   "cell_type": "code",
   "execution_count": 25,
   "metadata": {},
   "outputs": [],
   "source": [
    "# Define the aggregation pipeline\n",
    "pipeline = [\n",
    "    {\n",
    "        \"$lookup\": {\n",
    "            \"from\": \"countries\",\n",
    "            \"localField\": \"country_id\",\n",
    "            \"foreignField\": \"id\",\n",
    "            \"as\": \"additional_info\"\n",
    "        }\n",
    "    },\n",
    "    {\n",
    "        \"$project\": {\n",
    "            \"_id\": 0,\n",
    "            \"State_name\": \"$name\",\n",
    "            \"Country_name\": { \"$arrayElemAt\": [\"$additional_info.name\", 0] },\n",
    "            \"Subregion_name\": { \"$arrayElemAt\": [\"$additional_info.subregion\", 0] },\n",
    "            \"Region_name\": { \"$arrayElemAt\": [\"$additional_info.region\", 0] }\n",
    "        }\n",
    "    }\n",
    "]\n"
   ]
  },
  {
   "cell_type": "code",
   "execution_count": 26,
   "metadata": {},
   "outputs": [
    {
     "data": {
      "text/html": [
       "<div>\n",
       "<style scoped>\n",
       "    .dataframe tbody tr th:only-of-type {\n",
       "        vertical-align: middle;\n",
       "    }\n",
       "\n",
       "    .dataframe tbody tr th {\n",
       "        vertical-align: top;\n",
       "    }\n",
       "\n",
       "    .dataframe thead th {\n",
       "        text-align: right;\n",
       "    }\n",
       "</style>\n",
       "<table border=\"1\" class=\"dataframe\">\n",
       "  <thead>\n",
       "    <tr style=\"text-align: right;\">\n",
       "      <th></th>\n",
       "      <th>State_name</th>\n",
       "      <th>Country_name</th>\n",
       "      <th>Subregion_name</th>\n",
       "      <th>Region_name</th>\n",
       "    </tr>\n",
       "  </thead>\n",
       "  <tbody>\n",
       "    <tr>\n",
       "      <th>0</th>\n",
       "      <td>Badakhshan</td>\n",
       "      <td>Afghanistan</td>\n",
       "      <td>Southern Asia</td>\n",
       "      <td>Asia</td>\n",
       "    </tr>\n",
       "    <tr>\n",
       "      <th>1</th>\n",
       "      <td>Badghis</td>\n",
       "      <td>Afghanistan</td>\n",
       "      <td>Southern Asia</td>\n",
       "      <td>Asia</td>\n",
       "    </tr>\n",
       "    <tr>\n",
       "      <th>2</th>\n",
       "      <td>Baghlan</td>\n",
       "      <td>Afghanistan</td>\n",
       "      <td>Southern Asia</td>\n",
       "      <td>Asia</td>\n",
       "    </tr>\n",
       "    <tr>\n",
       "      <th>3</th>\n",
       "      <td>Balkh</td>\n",
       "      <td>Afghanistan</td>\n",
       "      <td>Southern Asia</td>\n",
       "      <td>Asia</td>\n",
       "    </tr>\n",
       "    <tr>\n",
       "      <th>4</th>\n",
       "      <td>Bamyan</td>\n",
       "      <td>Afghanistan</td>\n",
       "      <td>Southern Asia</td>\n",
       "      <td>Asia</td>\n",
       "    </tr>\n",
       "    <tr>\n",
       "      <th>...</th>\n",
       "      <td>...</td>\n",
       "      <td>...</td>\n",
       "      <td>...</td>\n",
       "      <td>...</td>\n",
       "    </tr>\n",
       "    <tr>\n",
       "      <th>5079</th>\n",
       "      <td>Mashonaland West Province</td>\n",
       "      <td>Zimbabwe</td>\n",
       "      <td>Eastern Africa</td>\n",
       "      <td>Africa</td>\n",
       "    </tr>\n",
       "    <tr>\n",
       "      <th>5080</th>\n",
       "      <td>Masvingo Province</td>\n",
       "      <td>Zimbabwe</td>\n",
       "      <td>Eastern Africa</td>\n",
       "      <td>Africa</td>\n",
       "    </tr>\n",
       "    <tr>\n",
       "      <th>5081</th>\n",
       "      <td>Matabeleland North Province</td>\n",
       "      <td>Zimbabwe</td>\n",
       "      <td>Eastern Africa</td>\n",
       "      <td>Africa</td>\n",
       "    </tr>\n",
       "    <tr>\n",
       "      <th>5082</th>\n",
       "      <td>Matabeleland South Province</td>\n",
       "      <td>Zimbabwe</td>\n",
       "      <td>Eastern Africa</td>\n",
       "      <td>Africa</td>\n",
       "    </tr>\n",
       "    <tr>\n",
       "      <th>5083</th>\n",
       "      <td>Midlands Province</td>\n",
       "      <td>Zimbabwe</td>\n",
       "      <td>Eastern Africa</td>\n",
       "      <td>Africa</td>\n",
       "    </tr>\n",
       "  </tbody>\n",
       "</table>\n",
       "<p>5084 rows × 4 columns</p>\n",
       "</div>"
      ],
      "text/plain": [
       "                       State_name Country_name  Subregion_name Region_name\n",
       "0                      Badakhshan  Afghanistan   Southern Asia        Asia\n",
       "1                         Badghis  Afghanistan   Southern Asia        Asia\n",
       "2                         Baghlan  Afghanistan   Southern Asia        Asia\n",
       "3                           Balkh  Afghanistan   Southern Asia        Asia\n",
       "4                          Bamyan  Afghanistan   Southern Asia        Asia\n",
       "...                           ...          ...             ...         ...\n",
       "5079    Mashonaland West Province     Zimbabwe  Eastern Africa      Africa\n",
       "5080            Masvingo Province     Zimbabwe  Eastern Africa      Africa\n",
       "5081  Matabeleland North Province     Zimbabwe  Eastern Africa      Africa\n",
       "5082  Matabeleland South Province     Zimbabwe  Eastern Africa      Africa\n",
       "5083            Midlands Province     Zimbabwe  Eastern Africa      Africa\n",
       "\n",
       "[5084 rows x 4 columns]"
      ]
     },
     "execution_count": 26,
     "metadata": {},
     "output_type": "execute_result"
    }
   ],
   "source": [
    "result = states.aggregate(pipeline)\n",
    "result_df = get_result(result)\n",
    "result_df"
   ]
  },
  {
   "cell_type": "code",
   "execution_count": 27,
   "metadata": {},
   "outputs": [],
   "source": [
    "# Close the connection\n",
    "client.close()"
   ]
  }
 ],
 "metadata": {
  "kernelspec": {
   "display_name": "Python 3",
   "language": "python",
   "name": "python3"
  },
  "language_info": {
   "codemirror_mode": {
    "name": "ipython",
    "version": 3
   },
   "file_extension": ".py",
   "mimetype": "text/x-python",
   "name": "python",
   "nbconvert_exporter": "python",
   "pygments_lexer": "ipython3",
   "version": "3.12.1"
  }
 },
 "nbformat": 4,
 "nbformat_minor": 2
}
